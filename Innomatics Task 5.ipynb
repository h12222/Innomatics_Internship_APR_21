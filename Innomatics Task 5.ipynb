{
 "cells": [
  {
   "cell_type": "code",
   "execution_count": null,
   "metadata": {},
   "outputs": [],
   "source": [
    "#Question 1 Floating Detect Point Number\n",
    "import re\n",
    "\n",
    "if __name__ == \"__main__\":\n",
    "    t = int(input().strip())\n",
    "    pattern = '^[+-]?[0-9]*\\.[0-9]+$'\n",
    "    \n",
    "    for _ in range(t):\n",
    "        print(bool(re.match(pattern, input())))"
   ]
  },
  {
   "cell_type": "code",
   "execution_count": null,
   "metadata": {},
   "outputs": [],
   "source": [
    "#Question 2 Re.split\n",
    "regex_pattern = r\"[.,]+\"\n",
    "import re\n",
    "print(\"\\n\".join(re.split(regex_pattern, input())))"
   ]
  },
  {
   "cell_type": "code",
   "execution_count": null,
   "metadata": {},
   "outputs": [],
   "source": [
    "#Question 3 Group\n",
    "import re\n",
    "match = re.search(r\"([a-zA-Z1-9])\\1\",input())\n",
    "print(match.group(1) if match else -1)"
   ]
  },
  {
   "cell_type": "code",
   "execution_count": null,
   "metadata": {},
   "outputs": [],
   "source": [
    "#Question 4 Re.find\n",
    "import re\n",
    "\n",
    "vowels = 'aeiou'\n",
    "consonants = 'qwrtypsdfghjklzxcvbnm'\n",
    "match = re.findall(r'(?<=[' + consonants + '])([' + vowels + ']{2,})(?=[' + consonants + '])', input(), flags=re.I)\n",
    "print('\\n'.join(match or ['-1']))"
   ]
  },
  {
   "cell_type": "code",
   "execution_count": null,
   "metadata": {},
   "outputs": [],
   "source": [
    "#Question5 Re.start\n",
    "import re\n",
    "text, pattern = input(), input()\n",
    "m= list(re.finditer(\"(?=(%s))\"%pattern,text))\n",
    "if not m:\n",
    "    print((-1,-1))\n",
    "for i in m:\n",
    "    print((i.start(1),i.end(1)-1))"
   ]
  },
  {
   "cell_type": "code",
   "execution_count": null,
   "metadata": {},
   "outputs": [],
   "source": [
    "#Question 6\n",
    "import re\n",
    "\n",
    "def change(match):\n",
    "    symb = match.group(0)\n",
    "    \n",
    "    if symb == \"&&\":\n",
    "        return \"and\"\n",
    "    elif symb == \"||\":\n",
    "        return \"or\"\n",
    "    \n",
    "n = int(input().strip())\n",
    "for _ in range(n):\n",
    "    print(re.sub(r'(?<= )(&&|\\|\\|)(?= )', change, input()))"
   ]
  },
  {
   "cell_type": "code",
   "execution_count": null,
   "metadata": {},
   "outputs": [],
   "source": [
    "#Question 7 Validating\n",
    "import re\n",
    "\n",
    "[print('YES' if re.match(r'[789]\\d{9}$', input()) else 'NO') for _ in range(int(input()))]"
   ]
  },
  {
   "cell_type": "code",
   "execution_count": null,
   "metadata": {},
   "outputs": [],
   "source": []
  }
 ],
 "metadata": {
  "kernelspec": {
   "display_name": "Python 3",
   "language": "python",
   "name": "python3"
  },
  "language_info": {
   "codemirror_mode": {
    "name": "ipython",
    "version": 3
   },
   "file_extension": ".py",
   "mimetype": "text/x-python",
   "name": "python",
   "nbconvert_exporter": "python",
   "pygments_lexer": "ipython3",
   "version": "3.7.6"
  }
 },
 "nbformat": 4,
 "nbformat_minor": 4
}
