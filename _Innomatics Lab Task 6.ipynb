{
 "cells": [
  {
   "cell_type": "code",
   "execution_count": 1,
   "metadata": {},
   "outputs": [
    {
     "name": "stdout",
     "output_type": "stream",
     "text": [
      "1 2 3 4 -8 -10\n",
      "[-10.  -8.   4.   3.   2.   1.]\n"
     ]
    }
   ],
   "source": [
    "# Question 1 Numpy Arrays\n",
    "import numpy \n",
    "def arrays(arr):\n",
    "    \n",
    "    arr.reverse()\n",
    "    numpy_arr = numpy.array(arr,float)\n",
    "    return numpy_arr\n",
    "\n",
    "    \n",
    "arr = input().strip().split(' ')\n",
    "result = arrays(arr)\n",
    "print(result)"
   ]
  },
  {
   "cell_type": "code",
   "execution_count": 2,
   "metadata": {},
   "outputs": [
    {
     "name": "stdout",
     "output_type": "stream",
     "text": [
      "1 2 3 4 5 6 7 8 9\n",
      "[[1 2 3]\n",
      " [4 5 6]\n",
      " [7 8 9]]\n"
     ]
    }
   ],
   "source": [
    "#Question 2 Nump Shape and Reshape\n",
    "import numpy as np\n",
    "\n",
    "\n",
    "array = np.array(list(map(int, input().split())))\n",
    "print(array.reshape(3, 3))"
   ]
  },
  {
   "cell_type": "code",
   "execution_count": 3,
   "metadata": {},
   "outputs": [
    {
     "name": "stdout",
     "output_type": "stream",
     "text": [
      "2 2\n",
      "1 2\n",
      "3 4\n",
      "[[1 3]\n",
      " [2 4]]\n",
      "[1 2 3 4]\n"
     ]
    }
   ],
   "source": [
    "#Question 3 Transpose and Flatten\n",
    "import numpy\n",
    "\n",
    "n,m=map(int,input().split())\n",
    "\n",
    "lista=[list(map(int,input().split())) for i in range(n)]\n",
    "a=numpy.array(lista)\n",
    "\n",
    "print(numpy.transpose(a))\n",
    "print(a.flatten())"
   ]
  },
  {
   "cell_type": "code",
   "execution_count": 4,
   "metadata": {},
   "outputs": [
    {
     "name": "stdout",
     "output_type": "stream",
     "text": [
      "4 3 2\n",
      "1 2\n",
      "1 2\n",
      "1 2\n",
      "1 2\n",
      "3 4\n",
      "3 4\n",
      "3 4\n",
      "[[1 2]\n",
      " [1 2]\n",
      " [1 2]\n",
      " [1 2]\n",
      " [3 4]\n",
      " [3 4]\n",
      " [3 4]]\n"
     ]
    }
   ],
   "source": [
    "#Question 4 Concatenate\n",
    "import numpy\n",
    "P, N, M = map(int,input().split())\n",
    "A = numpy.array([input().split() for _ in range(P)],int)\n",
    "B = numpy.array([input().split() for _ in range(N)],int)\n",
    "print(numpy.concatenate((A, B), axis = 0))"
   ]
  },
  {
   "cell_type": "code",
   "execution_count": 5,
   "metadata": {},
   "outputs": [
    {
     "name": "stdout",
     "output_type": "stream",
     "text": [
      "3 3 3\n",
      "[[[0 0 0]\n",
      "  [0 0 0]\n",
      "  [0 0 0]]\n",
      "\n",
      " [[0 0 0]\n",
      "  [0 0 0]\n",
      "  [0 0 0]]\n",
      "\n",
      " [[0 0 0]\n",
      "  [0 0 0]\n",
      "  [0 0 0]]]\n",
      "[[[1 1 1]\n",
      "  [1 1 1]\n",
      "  [1 1 1]]\n",
      "\n",
      " [[1 1 1]\n",
      "  [1 1 1]\n",
      "  [1 1 1]]\n",
      "\n",
      " [[1 1 1]\n",
      "  [1 1 1]\n",
      "  [1 1 1]]]\n"
     ]
    }
   ],
   "source": [
    "#Question 5 Zeros and Ones\n",
    "import numpy\n",
    "dims = [int(x) for x in input().strip().split()]\n",
    "\n",
    "print(numpy.zeros(tuple(dims), dtype = numpy.int))\n",
    "print(numpy.ones(tuple(dims), dtype = numpy.int))"
   ]
  },
  {
   "cell_type": "code",
   "execution_count": 6,
   "metadata": {},
   "outputs": [
    {
     "name": "stdout",
     "output_type": "stream",
     "text": [
      "3 3\n",
      "[[ 1.  0.  0.]\n",
      " [ 0.  1.  0.]\n",
      " [ 0.  0.  1.]]\n"
     ]
    }
   ],
   "source": [
    "#Question 6 Eye and Identity\n",
    "import numpy\n",
    "\n",
    "numpy.set_printoptions(sign=' ')\n",
    "print(numpy.eye(*map(int, input().split())))"
   ]
  },
  {
   "cell_type": "code",
   "execution_count": 7,
   "metadata": {},
   "outputs": [
    {
     "name": "stdout",
     "output_type": "stream",
     "text": [
      "1 4\n",
      "1 2 3 4\n",
      "5 6 7 8\n",
      "[[ 6  8 10 12]]\n",
      "[[-4 -4 -4 -4]]\n",
      "[[ 5 12 21 32]]\n",
      "[[0 0 0 0]]\n",
      "[[1 2 3 4]]\n",
      "[[    1    64  2187 65536]]\n"
     ]
    }
   ],
   "source": [
    "#Question 7 Array Mathemetics\n",
    "import numpy\n",
    "\n",
    "\n",
    "\n",
    "\n",
    "n, m = [int(x) for x in input().strip().split()]\n",
    "\n",
    "a = numpy.array([[int(x) for x in input().strip().split()] for _ in range(n)])\n",
    "b = numpy.array([[int(x) for x in input().strip().split()] for _ in range(n)])\n",
    "\n",
    "print(a + b)\n",
    "print(a - b)\n",
    "print(a * b)\n",
    "print(a // b)\n",
    "print(a % b)\n",
    "print(a**b)"
   ]
  },
  {
   "cell_type": "code",
   "execution_count": 8,
   "metadata": {},
   "outputs": [
    {
     "name": "stdout",
     "output_type": "stream",
     "text": [
      "1.1 2.2 3.3 4.4 5.5 6.6 7.7 8.8 9.9\n",
      "[ 1.  2.  3.  4.  5.  6.  7.  8.  9.]\n",
      "[  2.   3.   4.   5.   6.   7.   8.   9.  10.]\n",
      "[  1.   2.   3.   4.   6.   7.   8.   9.  10.]\n"
     ]
    }
   ],
   "source": [
    "# Question 8 Floor,Ceil\n",
    "import numpy as np\n",
    "\n",
    "array = np.array(list(input().strip().split()), dtype = float)\n",
    "                 \n",
    "print(np.floor(array))\n",
    "print(np.ceil(array))\n",
    "print(np.rint(array))"
   ]
  },
  {
   "cell_type": "code",
   "execution_count": 9,
   "metadata": {},
   "outputs": [
    {
     "name": "stdout",
     "output_type": "stream",
     "text": [
      "2 2\n",
      "1 2\n",
      "3 4\n",
      "24\n"
     ]
    }
   ],
   "source": [
    "#Question 9 Sum and Prod\n",
    "import numpy as np\n",
    "\n",
    "n, m = [int(x) for x in input().strip().split()]\n",
    "array = np.array([[int(x) for x in input().strip().split()] for _ in range(n)])\n",
    "print(np.prod(np.sum(array, axis = 0)))"
   ]
  },
  {
   "cell_type": "code",
   "execution_count": 10,
   "metadata": {},
   "outputs": [
    {
     "name": "stdout",
     "output_type": "stream",
     "text": [
      "4 2\n",
      "3 2\n",
      "2 1\n",
      "3 4\n",
      "4 1\n",
      "3\n"
     ]
    }
   ],
   "source": [
    "#Question 10 Min and Max\n",
    "import numpy as np\n",
    "\n",
    "n, m = [int(x) for x in input().strip().split()]\n",
    "array = np.array([[int(x) for x in input().strip().split()] for _ in range(n)])\n",
    "print(np.max(np.min(array, axis = 1)))"
   ]
  },
  {
   "cell_type": "code",
   "execution_count": 11,
   "metadata": {},
   "outputs": [
    {
     "name": "stdout",
     "output_type": "stream",
     "text": [
      "2 2\n",
      "1 2\n",
      "3 2\n",
      "[ 1.5  2.5]\n",
      "[ 1.  0.]\n",
      "0.7071067811865476\n"
     ]
    }
   ],
   "source": [
    "#Question 11 Mean,Var,Std\n",
    "import numpy as np\n",
    "\n",
    "n, m = [int(x) for x in input().strip().split()]\n",
    "array = np.array([[int(x) for x in input().strip().split()] for _ in range(n)], dtype = float)\n",
    "print(np.mean(array, axis = 1))\n",
    "print(np.var(array, axis = 0))\n",
    "print(np.std(array))"
   ]
  },
  {
   "cell_type": "code",
   "execution_count": null,
   "metadata": {},
   "outputs": [],
   "source": []
  }
 ],
 "metadata": {
  "kernelspec": {
   "display_name": "Python 3",
   "language": "python",
   "name": "python3"
  },
  "language_info": {
   "codemirror_mode": {
    "name": "ipython",
    "version": 3
   },
   "file_extension": ".py",
   "mimetype": "text/x-python",
   "name": "python",
   "nbconvert_exporter": "python",
   "pygments_lexer": "ipython3",
   "version": "3.7.6"
  }
 },
 "nbformat": 4,
 "nbformat_minor": 4
}
