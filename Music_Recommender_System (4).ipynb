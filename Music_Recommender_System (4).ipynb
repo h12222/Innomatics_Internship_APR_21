{
  "nbformat": 4,
  "nbformat_minor": 5,
  "metadata": {
    "kernelspec": {
      "display_name": "Python 3",
      "language": "python",
      "name": "python3"
    },
    "language_info": {
      "codemirror_mode": {
        "name": "ipython",
        "version": 3
      },
      "file_extension": ".py",
      "mimetype": "text/x-python",
      "name": "python",
      "nbconvert_exporter": "python",
      "pygments_lexer": "ipython3",
      "version": "3.8.8"
    },
    "colab": {
      "name": "Music_Recommender_System.ipynb",
      "provenance": [],
      "collapsed_sections": [
        "1f963b8b",
        "feea634e",
        "NhPZHIv55uxg",
        "g9Uym_mi6bkE",
        "UTz3dR4b6ry_"
      ]
    },
    "accelerator": "GPU"
  },
  "cells": [
    {
      "cell_type": "markdown",
      "metadata": {
        "id": "51be259f"
      },
      "source": [
        "# Music recommender system\n",
        "**To built a recommender system using Machine learning algorithms and to provide personalize recommendation to the users using <br> 1. Content - based filtering<br>\n",
        "2.Popularity - based filtering <br>\n",
        "3.Collaborative filtering.**"
      ],
      "id": "51be259f"
    },
    {
      "cell_type": "code",
      "metadata": {
        "id": "5f52007b"
      },
      "source": [
        "import warnings\n",
        "warnings.filterwarnings(\"ignore\")"
      ],
      "id": "5f52007b",
      "execution_count": null,
      "outputs": []
    },
    {
      "cell_type": "markdown",
      "metadata": {
        "id": "29b95116"
      },
      "source": [
        "# Importing required libraries"
      ],
      "id": "29b95116"
    },
    {
      "cell_type": "code",
      "metadata": {
        "id": "3cc6793f"
      },
      "source": [
        "import pandas as pd\n",
        "import numpy as np\n",
        "import seaborn as sns\n",
        "import matplotlib.pyplot as plt"
      ],
      "id": "3cc6793f",
      "execution_count": null,
      "outputs": []
    },
    {
      "cell_type": "code",
      "metadata": {
        "colab": {
          "base_uri": "https://localhost:8080/"
        },
        "id": "_H-0pjAKs6qH",
        "outputId": "f0590b86-1343-42e3-ffe0-a11c4f492abf"
      },
      "source": [
        "from google.colab import drive\n",
        "drive.mount('/content/drive')"
      ],
      "id": "_H-0pjAKs6qH",
      "execution_count": null,
      "outputs": [
        {
          "output_type": "stream",
          "text": [
            "Drive already mounted at /content/drive; to attempt to forcibly remount, call drive.mount(\"/content/drive\", force_remount=True).\n"
          ],
          "name": "stdout"
        }
      ]
    },
    {
      "cell_type": "markdown",
      "metadata": {
        "id": "eed0acd7"
      },
      "source": [
        "# Converting text format to csv format"
      ],
      "id": "eed0acd7"
    },
    {
      "cell_type": "code",
      "metadata": {
        "id": "6ddd907d"
      },
      "source": [
        "df1 = pd.read_csv(\"/content/drive/MyDrive/dataset/kaggle_visible_evaluation_triplets.csv\")"
      ],
      "id": "6ddd907d",
      "execution_count": null,
      "outputs": []
    },
    {
      "cell_type": "code",
      "metadata": {
        "id": "02059a5b",
        "colab": {
          "base_uri": "https://localhost:8080/",
          "height": 203
        },
        "outputId": "6133c4d0-a4bf-4fe1-fc17-53c8361d93a3"
      },
      "source": [
        "df1.head()"
      ],
      "id": "02059a5b",
      "execution_count": null,
      "outputs": [
        {
          "output_type": "execute_result",
          "data": {
            "text/html": [
              "<div>\n",
              "<style scoped>\n",
              "    .dataframe tbody tr th:only-of-type {\n",
              "        vertical-align: middle;\n",
              "    }\n",
              "\n",
              "    .dataframe tbody tr th {\n",
              "        vertical-align: top;\n",
              "    }\n",
              "\n",
              "    .dataframe thead th {\n",
              "        text-align: right;\n",
              "    }\n",
              "</style>\n",
              "<table border=\"1\" class=\"dataframe\">\n",
              "  <thead>\n",
              "    <tr style=\"text-align: right;\">\n",
              "      <th></th>\n",
              "      <th>user_id</th>\n",
              "      <th>song_id</th>\n",
              "      <th>PlayCount</th>\n",
              "    </tr>\n",
              "  </thead>\n",
              "  <tbody>\n",
              "    <tr>\n",
              "      <th>0</th>\n",
              "      <td>fd50c4007b68a3737fe052d5a4f78ce8aa117f3d</td>\n",
              "      <td>SOBONKR12A58A7A7E0</td>\n",
              "      <td>1</td>\n",
              "    </tr>\n",
              "    <tr>\n",
              "      <th>1</th>\n",
              "      <td>fd50c4007b68a3737fe052d5a4f78ce8aa117f3d</td>\n",
              "      <td>SOEGIYH12A6D4FC0E3</td>\n",
              "      <td>1</td>\n",
              "    </tr>\n",
              "    <tr>\n",
              "      <th>2</th>\n",
              "      <td>fd50c4007b68a3737fe052d5a4f78ce8aa117f3d</td>\n",
              "      <td>SOFLJQZ12A6D4FADA6</td>\n",
              "      <td>1</td>\n",
              "    </tr>\n",
              "    <tr>\n",
              "      <th>3</th>\n",
              "      <td>fd50c4007b68a3737fe052d5a4f78ce8aa117f3d</td>\n",
              "      <td>SOHTKMO12AB01843B0</td>\n",
              "      <td>1</td>\n",
              "    </tr>\n",
              "    <tr>\n",
              "      <th>4</th>\n",
              "      <td>fd50c4007b68a3737fe052d5a4f78ce8aa117f3d</td>\n",
              "      <td>SODQZCY12A6D4F9D11</td>\n",
              "      <td>1</td>\n",
              "    </tr>\n",
              "  </tbody>\n",
              "</table>\n",
              "</div>"
            ],
            "text/plain": [
              "                                    user_id             song_id  PlayCount\n",
              "0  fd50c4007b68a3737fe052d5a4f78ce8aa117f3d  SOBONKR12A58A7A7E0          1\n",
              "1  fd50c4007b68a3737fe052d5a4f78ce8aa117f3d  SOEGIYH12A6D4FC0E3          1\n",
              "2  fd50c4007b68a3737fe052d5a4f78ce8aa117f3d  SOFLJQZ12A6D4FADA6          1\n",
              "3  fd50c4007b68a3737fe052d5a4f78ce8aa117f3d  SOHTKMO12AB01843B0          1\n",
              "4  fd50c4007b68a3737fe052d5a4f78ce8aa117f3d  SODQZCY12A6D4F9D11          1"
            ]
          },
          "metadata": {
            "tags": []
          },
          "execution_count": 5
        }
      ]
    },
    {
      "cell_type": "code",
      "metadata": {
        "id": "ccbc6198",
        "colab": {
          "base_uri": "https://localhost:8080/"
        },
        "outputId": "726eecc2-dc09-412a-dfa0-7a8a9c8eac25"
      },
      "source": [
        "df1.info()"
      ],
      "id": "ccbc6198",
      "execution_count": null,
      "outputs": [
        {
          "output_type": "stream",
          "text": [
            "<class 'pandas.core.frame.DataFrame'>\n",
            "RangeIndex: 1450933 entries, 0 to 1450932\n",
            "Data columns (total 3 columns):\n",
            " #   Column     Non-Null Count    Dtype \n",
            "---  ------     --------------    ----- \n",
            " 0   user_id    1450933 non-null  object\n",
            " 1   song_id    1450933 non-null  object\n",
            " 2   PlayCount  1450933 non-null  int64 \n",
            "dtypes: int64(1), object(2)\n",
            "memory usage: 33.2+ MB\n"
          ],
          "name": "stdout"
        }
      ]
    },
    {
      "cell_type": "code",
      "metadata": {
        "id": "aa2fa459"
      },
      "source": [
        "df2 = pd.read_csv(\"/content/drive/MyDrive/dataset/unique_tracks.csv\")"
      ],
      "id": "aa2fa459",
      "execution_count": null,
      "outputs": []
    },
    {
      "cell_type": "code",
      "metadata": {
        "id": "a3a984bf",
        "colab": {
          "base_uri": "https://localhost:8080/"
        },
        "outputId": "83236e06-cb30-4bfe-8145-cdbde1ee4d7e"
      },
      "source": [
        "df2.info()"
      ],
      "id": "a3a984bf",
      "execution_count": null,
      "outputs": [
        {
          "output_type": "stream",
          "text": [
            "<class 'pandas.core.frame.DataFrame'>\n",
            "RangeIndex: 1000000 entries, 0 to 999999\n",
            "Data columns (total 4 columns):\n",
            " #   Column       Non-Null Count    Dtype \n",
            "---  ------       --------------    ----- \n",
            " 0   Genre        1000000 non-null  object\n",
            " 1   song_id      1000000 non-null  object\n",
            " 2   Artist Name  1000000 non-null  object\n",
            " 3   Title        999985 non-null   object\n",
            "dtypes: object(4)\n",
            "memory usage: 30.5+ MB\n"
          ],
          "name": "stdout"
        }
      ]
    },
    {
      "cell_type": "code",
      "metadata": {
        "scrolled": true,
        "id": "fc7529eb",
        "colab": {
          "base_uri": "https://localhost:8080/",
          "height": 203
        },
        "outputId": "417e4621-da6a-4870-c2bf-48c96b313d27"
      },
      "source": [
        "df2.head()"
      ],
      "id": "fc7529eb",
      "execution_count": null,
      "outputs": [
        {
          "output_type": "execute_result",
          "data": {
            "text/html": [
              "<div>\n",
              "<style scoped>\n",
              "    .dataframe tbody tr th:only-of-type {\n",
              "        vertical-align: middle;\n",
              "    }\n",
              "\n",
              "    .dataframe tbody tr th {\n",
              "        vertical-align: top;\n",
              "    }\n",
              "\n",
              "    .dataframe thead th {\n",
              "        text-align: right;\n",
              "    }\n",
              "</style>\n",
              "<table border=\"1\" class=\"dataframe\">\n",
              "  <thead>\n",
              "    <tr style=\"text-align: right;\">\n",
              "      <th></th>\n",
              "      <th>Genre</th>\n",
              "      <th>song_id</th>\n",
              "      <th>Artist Name</th>\n",
              "      <th>Title</th>\n",
              "    </tr>\n",
              "  </thead>\n",
              "  <tbody>\n",
              "    <tr>\n",
              "      <th>0</th>\n",
              "      <td>TRMMMYQ128F932D901</td>\n",
              "      <td>SOQMMHC12AB0180CB8</td>\n",
              "      <td>Faster Pussy cat</td>\n",
              "      <td>Silent Night</td>\n",
              "    </tr>\n",
              "    <tr>\n",
              "      <th>1</th>\n",
              "      <td>TRMMMKD128F425225D</td>\n",
              "      <td>SOVFVAK12A8C1350D9</td>\n",
              "      <td>Karkkiautomaatti</td>\n",
              "      <td>Tanssi vaan</td>\n",
              "    </tr>\n",
              "    <tr>\n",
              "      <th>2</th>\n",
              "      <td>TRMMMRX128F93187D9</td>\n",
              "      <td>SOGTUKN12AB017F4F1</td>\n",
              "      <td>Hudson Mohawke</td>\n",
              "      <td>No One Could Ever</td>\n",
              "    </tr>\n",
              "    <tr>\n",
              "      <th>3</th>\n",
              "      <td>TRMMMCH128F425532C</td>\n",
              "      <td>SOBNYVR12A8C13558C</td>\n",
              "      <td>Yerba Brava</td>\n",
              "      <td>Si Vos Querés</td>\n",
              "    </tr>\n",
              "    <tr>\n",
              "      <th>4</th>\n",
              "      <td>TRMMMWA128F426B589</td>\n",
              "      <td>SOHSBXH12A8C13B0DF</td>\n",
              "      <td>Der Mystic</td>\n",
              "      <td>Tangle Of Aspens</td>\n",
              "    </tr>\n",
              "  </tbody>\n",
              "</table>\n",
              "</div>"
            ],
            "text/plain": [
              "                Genre             song_id       Artist Name              Title\n",
              "0  TRMMMYQ128F932D901  SOQMMHC12AB0180CB8  Faster Pussy cat       Silent Night\n",
              "1  TRMMMKD128F425225D  SOVFVAK12A8C1350D9  Karkkiautomaatti        Tanssi vaan\n",
              "2  TRMMMRX128F93187D9  SOGTUKN12AB017F4F1    Hudson Mohawke  No One Could Ever\n",
              "3  TRMMMCH128F425532C  SOBNYVR12A8C13558C       Yerba Brava      Si Vos Querés\n",
              "4  TRMMMWA128F426B589  SOHSBXH12A8C13B0DF        Der Mystic   Tangle Of Aspens"
            ]
          },
          "metadata": {
            "tags": []
          },
          "execution_count": 9
        }
      ]
    },
    {
      "cell_type": "code",
      "metadata": {
        "id": "efdfe2d7"
      },
      "source": [
        "df2.drop(['Genre'],axis = 1,inplace = True)"
      ],
      "id": "efdfe2d7",
      "execution_count": null,
      "outputs": []
    },
    {
      "cell_type": "code",
      "metadata": {
        "id": "e5e50b4e",
        "colab": {
          "base_uri": "https://localhost:8080/",
          "height": 203
        },
        "outputId": "173c6a81-74cd-4a2e-8371-43d6b63f58fe"
      },
      "source": [
        "df2.head()"
      ],
      "id": "e5e50b4e",
      "execution_count": null,
      "outputs": [
        {
          "output_type": "execute_result",
          "data": {
            "text/html": [
              "<div>\n",
              "<style scoped>\n",
              "    .dataframe tbody tr th:only-of-type {\n",
              "        vertical-align: middle;\n",
              "    }\n",
              "\n",
              "    .dataframe tbody tr th {\n",
              "        vertical-align: top;\n",
              "    }\n",
              "\n",
              "    .dataframe thead th {\n",
              "        text-align: right;\n",
              "    }\n",
              "</style>\n",
              "<table border=\"1\" class=\"dataframe\">\n",
              "  <thead>\n",
              "    <tr style=\"text-align: right;\">\n",
              "      <th></th>\n",
              "      <th>song_id</th>\n",
              "      <th>Artist Name</th>\n",
              "      <th>Title</th>\n",
              "    </tr>\n",
              "  </thead>\n",
              "  <tbody>\n",
              "    <tr>\n",
              "      <th>0</th>\n",
              "      <td>SOQMMHC12AB0180CB8</td>\n",
              "      <td>Faster Pussy cat</td>\n",
              "      <td>Silent Night</td>\n",
              "    </tr>\n",
              "    <tr>\n",
              "      <th>1</th>\n",
              "      <td>SOVFVAK12A8C1350D9</td>\n",
              "      <td>Karkkiautomaatti</td>\n",
              "      <td>Tanssi vaan</td>\n",
              "    </tr>\n",
              "    <tr>\n",
              "      <th>2</th>\n",
              "      <td>SOGTUKN12AB017F4F1</td>\n",
              "      <td>Hudson Mohawke</td>\n",
              "      <td>No One Could Ever</td>\n",
              "    </tr>\n",
              "    <tr>\n",
              "      <th>3</th>\n",
              "      <td>SOBNYVR12A8C13558C</td>\n",
              "      <td>Yerba Brava</td>\n",
              "      <td>Si Vos Querés</td>\n",
              "    </tr>\n",
              "    <tr>\n",
              "      <th>4</th>\n",
              "      <td>SOHSBXH12A8C13B0DF</td>\n",
              "      <td>Der Mystic</td>\n",
              "      <td>Tangle Of Aspens</td>\n",
              "    </tr>\n",
              "  </tbody>\n",
              "</table>\n",
              "</div>"
            ],
            "text/plain": [
              "              song_id       Artist Name              Title\n",
              "0  SOQMMHC12AB0180CB8  Faster Pussy cat       Silent Night\n",
              "1  SOVFVAK12A8C1350D9  Karkkiautomaatti        Tanssi vaan\n",
              "2  SOGTUKN12AB017F4F1    Hudson Mohawke  No One Could Ever\n",
              "3  SOBNYVR12A8C13558C       Yerba Brava      Si Vos Querés\n",
              "4  SOHSBXH12A8C13B0DF        Der Mystic   Tangle Of Aspens"
            ]
          },
          "metadata": {
            "tags": []
          },
          "execution_count": 11
        }
      ]
    },
    {
      "cell_type": "markdown",
      "metadata": {
        "id": "9b9bd510"
      },
      "source": [
        "# Merging the dataframes"
      ],
      "id": "9b9bd510"
    },
    {
      "cell_type": "code",
      "metadata": {
        "id": "31891402"
      },
      "source": [
        "song_df = pd.merge(df1,df2.drop_duplicates(['song_id']),on = \"song_id\",how='left')"
      ],
      "id": "31891402",
      "execution_count": null,
      "outputs": []
    },
    {
      "cell_type": "code",
      "metadata": {
        "id": "809de284",
        "colab": {
          "base_uri": "https://localhost:8080/"
        },
        "outputId": "b104e477-2f1b-410e-d779-a3943e3876b4"
      },
      "source": [
        "len(song_df)"
      ],
      "id": "809de284",
      "execution_count": null,
      "outputs": [
        {
          "output_type": "execute_result",
          "data": {
            "text/plain": [
              "1450933"
            ]
          },
          "metadata": {
            "tags": []
          },
          "execution_count": 13
        }
      ]
    },
    {
      "cell_type": "code",
      "metadata": {
        "id": "09ab7409"
      },
      "source": [
        "song_df.dropna(axis=0,inplace = True)"
      ],
      "id": "09ab7409",
      "execution_count": null,
      "outputs": []
    },
    {
      "cell_type": "code",
      "metadata": {
        "id": "f038c086",
        "colab": {
          "base_uri": "https://localhost:8080/",
          "height": 203
        },
        "outputId": "48063621-bc83-41ba-d5ea-bf0fbecee1fb"
      },
      "source": [
        "song_df.head()"
      ],
      "id": "f038c086",
      "execution_count": null,
      "outputs": [
        {
          "output_type": "execute_result",
          "data": {
            "text/html": [
              "<div>\n",
              "<style scoped>\n",
              "    .dataframe tbody tr th:only-of-type {\n",
              "        vertical-align: middle;\n",
              "    }\n",
              "\n",
              "    .dataframe tbody tr th {\n",
              "        vertical-align: top;\n",
              "    }\n",
              "\n",
              "    .dataframe thead th {\n",
              "        text-align: right;\n",
              "    }\n",
              "</style>\n",
              "<table border=\"1\" class=\"dataframe\">\n",
              "  <thead>\n",
              "    <tr style=\"text-align: right;\">\n",
              "      <th></th>\n",
              "      <th>user_id</th>\n",
              "      <th>song_id</th>\n",
              "      <th>PlayCount</th>\n",
              "      <th>Artist Name</th>\n",
              "      <th>Title</th>\n",
              "    </tr>\n",
              "  </thead>\n",
              "  <tbody>\n",
              "    <tr>\n",
              "      <th>0</th>\n",
              "      <td>fd50c4007b68a3737fe052d5a4f78ce8aa117f3d</td>\n",
              "      <td>SOBONKR12A58A7A7E0</td>\n",
              "      <td>1</td>\n",
              "      <td>Dwight Yoakam</td>\n",
              "      <td>You're The One</td>\n",
              "    </tr>\n",
              "    <tr>\n",
              "      <th>1</th>\n",
              "      <td>fd50c4007b68a3737fe052d5a4f78ce8aa117f3d</td>\n",
              "      <td>SOEGIYH12A6D4FC0E3</td>\n",
              "      <td>1</td>\n",
              "      <td>Barry Tuckwell/Academy of St Martin-in-the-Fie...</td>\n",
              "      <td>Horn Concerto No. 4 in E flat K495: II. Romanc...</td>\n",
              "    </tr>\n",
              "    <tr>\n",
              "      <th>2</th>\n",
              "      <td>fd50c4007b68a3737fe052d5a4f78ce8aa117f3d</td>\n",
              "      <td>SOFLJQZ12A6D4FADA6</td>\n",
              "      <td>1</td>\n",
              "      <td>Cartola</td>\n",
              "      <td>Tive Sim</td>\n",
              "    </tr>\n",
              "    <tr>\n",
              "      <th>3</th>\n",
              "      <td>fd50c4007b68a3737fe052d5a4f78ce8aa117f3d</td>\n",
              "      <td>SOHTKMO12AB01843B0</td>\n",
              "      <td>1</td>\n",
              "      <td>Lonnie Gordon</td>\n",
              "      <td>Catch You Baby (Steve Pitron &amp; Max Sanna Radio...</td>\n",
              "    </tr>\n",
              "    <tr>\n",
              "      <th>4</th>\n",
              "      <td>fd50c4007b68a3737fe052d5a4f78ce8aa117f3d</td>\n",
              "      <td>SODQZCY12A6D4F9D11</td>\n",
              "      <td>1</td>\n",
              "      <td>Miguel Calo</td>\n",
              "      <td>El Cuatrero</td>\n",
              "    </tr>\n",
              "  </tbody>\n",
              "</table>\n",
              "</div>"
            ],
            "text/plain": [
              "                                    user_id  ...                                              Title\n",
              "0  fd50c4007b68a3737fe052d5a4f78ce8aa117f3d  ...                                     You're The One\n",
              "1  fd50c4007b68a3737fe052d5a4f78ce8aa117f3d  ...  Horn Concerto No. 4 in E flat K495: II. Romanc...\n",
              "2  fd50c4007b68a3737fe052d5a4f78ce8aa117f3d  ...                                           Tive Sim\n",
              "3  fd50c4007b68a3737fe052d5a4f78ce8aa117f3d  ...  Catch You Baby (Steve Pitron & Max Sanna Radio...\n",
              "4  fd50c4007b68a3737fe052d5a4f78ce8aa117f3d  ...                                        El Cuatrero\n",
              "\n",
              "[5 rows x 5 columns]"
            ]
          },
          "metadata": {
            "tags": []
          },
          "execution_count": 15
        }
      ]
    },
    {
      "cell_type": "code",
      "metadata": {
        "id": "48ef5f42",
        "colab": {
          "base_uri": "https://localhost:8080/",
          "height": 295
        },
        "outputId": "9451524a-77a2-49d8-97bd-1ecbb22393b1"
      },
      "source": [
        "song_df.describe()"
      ],
      "id": "48ef5f42",
      "execution_count": null,
      "outputs": [
        {
          "output_type": "execute_result",
          "data": {
            "text/html": [
              "<div>\n",
              "<style scoped>\n",
              "    .dataframe tbody tr th:only-of-type {\n",
              "        vertical-align: middle;\n",
              "    }\n",
              "\n",
              "    .dataframe tbody tr th {\n",
              "        vertical-align: top;\n",
              "    }\n",
              "\n",
              "    .dataframe thead th {\n",
              "        text-align: right;\n",
              "    }\n",
              "</style>\n",
              "<table border=\"1\" class=\"dataframe\">\n",
              "  <thead>\n",
              "    <tr style=\"text-align: right;\">\n",
              "      <th></th>\n",
              "      <th>PlayCount</th>\n",
              "    </tr>\n",
              "  </thead>\n",
              "  <tbody>\n",
              "    <tr>\n",
              "      <th>count</th>\n",
              "      <td>1.450932e+06</td>\n",
              "    </tr>\n",
              "    <tr>\n",
              "      <th>mean</th>\n",
              "      <td>3.187151e+00</td>\n",
              "    </tr>\n",
              "    <tr>\n",
              "      <th>std</th>\n",
              "      <td>7.051666e+00</td>\n",
              "    </tr>\n",
              "    <tr>\n",
              "      <th>min</th>\n",
              "      <td>1.000000e+00</td>\n",
              "    </tr>\n",
              "    <tr>\n",
              "      <th>25%</th>\n",
              "      <td>1.000000e+00</td>\n",
              "    </tr>\n",
              "    <tr>\n",
              "      <th>50%</th>\n",
              "      <td>1.000000e+00</td>\n",
              "    </tr>\n",
              "    <tr>\n",
              "      <th>75%</th>\n",
              "      <td>3.000000e+00</td>\n",
              "    </tr>\n",
              "    <tr>\n",
              "      <th>max</th>\n",
              "      <td>9.230000e+02</td>\n",
              "    </tr>\n",
              "  </tbody>\n",
              "</table>\n",
              "</div>"
            ],
            "text/plain": [
              "          PlayCount\n",
              "count  1.450932e+06\n",
              "mean   3.187151e+00\n",
              "std    7.051666e+00\n",
              "min    1.000000e+00\n",
              "25%    1.000000e+00\n",
              "50%    1.000000e+00\n",
              "75%    3.000000e+00\n",
              "max    9.230000e+02"
            ]
          },
          "metadata": {
            "tags": []
          },
          "execution_count": 16
        }
      ]
    },
    {
      "cell_type": "code",
      "metadata": {
        "id": "badfad5b",
        "colab": {
          "base_uri": "https://localhost:8080/"
        },
        "outputId": "2d90f546-0464-4b49-e99e-9083485903cb"
      },
      "source": [
        "song_df.info()"
      ],
      "id": "badfad5b",
      "execution_count": null,
      "outputs": [
        {
          "output_type": "stream",
          "text": [
            "<class 'pandas.core.frame.DataFrame'>\n",
            "Int64Index: 1450932 entries, 0 to 1450932\n",
            "Data columns (total 5 columns):\n",
            " #   Column       Non-Null Count    Dtype \n",
            "---  ------       --------------    ----- \n",
            " 0   user_id      1450932 non-null  object\n",
            " 1   song_id      1450932 non-null  object\n",
            " 2   PlayCount    1450932 non-null  int64 \n",
            " 3   Artist Name  1450932 non-null  object\n",
            " 4   Title        1450932 non-null  object\n",
            "dtypes: int64(1), object(4)\n",
            "memory usage: 66.4+ MB\n"
          ],
          "name": "stdout"
        }
      ]
    },
    {
      "cell_type": "code",
      "metadata": {
        "id": "90e74a49",
        "colab": {
          "base_uri": "https://localhost:8080/"
        },
        "outputId": "52efcbe3-12a5-4488-e9d3-139cad35a2e6"
      },
      "source": [
        "song_df.shape"
      ],
      "id": "90e74a49",
      "execution_count": null,
      "outputs": [
        {
          "output_type": "execute_result",
          "data": {
            "text/plain": [
              "(1450932, 5)"
            ]
          },
          "metadata": {
            "tags": []
          },
          "execution_count": 18
        }
      ]
    },
    {
      "cell_type": "markdown",
      "metadata": {
        "id": "1ef88e34"
      },
      "source": [
        "# Plot for playcount"
      ],
      "id": "1ef88e34"
    },
    {
      "cell_type": "code",
      "metadata": {
        "id": "58381d47",
        "colab": {
          "base_uri": "https://localhost:8080/",
          "height": 514
        },
        "outputId": "c6235f87-97e5-412d-e685-7858d507d974"
      },
      "source": [
        "plt.figure(figsize=(10,8))\n",
        "sns.distplot(song_df['PlayCount'])"
      ],
      "id": "58381d47",
      "execution_count": null,
      "outputs": [
        {
          "output_type": "execute_result",
          "data": {
            "text/plain": [
              "<matplotlib.axes._subplots.AxesSubplot at 0x7f4e2f138c50>"
            ]
          },
          "metadata": {
            "tags": []
          },
          "execution_count": 19
        },
        {
          "output_type": "display_data",
          "data": {
            "image/png": "[encoded data removed]",
            "text/plain": [
              "<Figure size 720x576 with 1 Axes>"
            ]
          },
          "metadata": {
            "tags": [],
            "needs_background": "light"
          }
        }
      ]
    },
    {
      "cell_type": "markdown",
      "metadata": {
        "id": "1f963b8b"
      },
      "source": [
        "# Unique users in each attribute"
      ],
      "id": "1f963b8b"
    },
    {
      "cell_type": "code",
      "metadata": {
        "id": "3f6c5eba",
        "colab": {
          "base_uri": "https://localhost:8080/"
        },
        "outputId": "fac02b5b-43f3-4d0c-92a5-065cc9898108"
      },
      "source": [
        "print(\"Total number of data:\",song_df.shape[0])\n",
        "print(\"Total number of unique user:\",song_df[\"user_id\"].unique().shape[0])\n",
        "print(\"Total number of unique Songs:\",song_df[\"song_id\"].unique().shape[0])\n",
        "print(\"Total number of unique Artist:\",song_df[\"Artist Name\"].unique().shape[0])\n",
        "print(\"Total number of unique Title:\",song_df[\"Title\"].unique().shape[0])"
      ],
      "id": "3f6c5eba",
      "execution_count": null,
      "outputs": [
        {
          "output_type": "stream",
          "text": [
            "Total number of data: 1450932\n",
            "Total number of unique user: 110000\n",
            "Total number of unique Songs: 163205\n",
            "Total number of unique Artist: 28360\n",
            "Total number of unique Title: 137622\n"
          ],
          "name": "stdout"
        }
      ]
    },
    {
      "cell_type": "markdown",
      "metadata": {
        "id": "dfe956cf"
      },
      "source": [
        "# Most frequent User ID"
      ],
      "id": "dfe956cf"
    },
    {
      "cell_type": "code",
      "metadata": {
        "id": "50afe6ec",
        "colab": {
          "base_uri": "https://localhost:8080/",
          "height": 851
        },
        "outputId": "4ca658de-250b-4efe-9ccb-abaaef1bb635"
      },
      "source": [
        "from itertools import islice,cycle\n",
        "freq1 = song_df.loc[:,'user_id'].value_counts()[:20] \n",
        "my_colors = list(islice(cycle(['b', 'r', 'g', 'y', 'k']), None, len(freq1)))\n",
        "freq1.plot(kind=\"bar\",figsize=(20,10),stacked = True,color = my_colors)"
      ],
      "id": "50afe6ec",
      "execution_count": null,
      "outputs": [
        {
          "output_type": "execute_result",
          "data": {
            "text/plain": [
              "<matplotlib.axes._subplots.AxesSubplot at 0x7f4e11429c90>"
            ]
          },
          "metadata": {
            "tags": []
          },
          "execution_count": 21
        },
        {
          "output_type": "display_data",
          "data": {
            "image/png": "[encoded data removed]",
            "text/plain": [
              "<Figure size 1440x720 with 1 Axes>"
            ]
          },
          "metadata": {
            "tags": [],
            "needs_background": "light"
          }
        }
      ]
    },
    {
      "cell_type": "markdown",
      "metadata": {
        "id": "8d963225"
      },
      "source": [
        "# Grouping data using User ID"
      ],
      "id": "8d963225"
    },
    {
      "cell_type": "code",
      "metadata": {
        "id": "37f23d05",
        "colab": {
          "base_uri": "https://localhost:8080/"
        },
        "outputId": "17723f97-c4b9-42d9-b8c8-68d85fe9760b"
      },
      "source": [
        "user_count = song_df.groupby('user_id')['PlayCount'].sum()\n",
        "user_count1 = user_count.sort_values(ascending = False).head(20)\n",
        "user_count1"
      ],
      "id": "37f23d05",
      "execution_count": null,
      "outputs": [
        {
          "output_type": "execute_result",
          "data": {
            "text/plain": [
              "user_id\n",
              "090b841eaf56d343a26625c2c6d08b823927bc4f    1305\n",
              "938c2632d43eeadb8a83a7cc254d014f9cea6afe    1267\n",
              "1c5aa998482a40abfd020759e7d757eb6c510e72    1200\n",
              "c6150292374fb1dad89982367b3245dd5004c718    1192\n",
              "5a9375e46a7e9b869058c7bc0e820e00d77f3e0b    1184\n",
              "d1d845a92cd34456423e781512bdb502ca385b51    1180\n",
              "957440a77858369fb7a6bcc6fa408fc187d5bd7b    1150\n",
              "315103a41c2ced1143de0c2ba20de224800e6d89    1148\n",
              "22bb29714137fa47083963c30e1a26f1bf517e7d    1141\n",
              "bda891a59a96252cc0f5b1f63f2630692b490e37    1140\n",
              "b51eeda3c09e2426f2e52dca8444a8c0cab6265a    1119\n",
              "b371df81acfde601d157a99c50fa06f7b3f76a84    1038\n",
              "9d12c30de5d9975f621f95f512699989ac544410    1001\n",
              "7bb7949be3d91d27f1c5613bea01644fcad77f43     996\n",
              "a1cc4d088600df2db42e6a305974675ffe8c905d     951\n",
              "77867fcbd93f3bf47f478a797f3bfabb0f561ea8     926\n",
              "a86e68128c6a48d3392db22ce1151a3bdccf5fcf     912\n",
              "9948794b0687c0b3cd2094845cb7915d55793492     884\n",
              "08879a07270b36aaa09923890b221fdef1e9849e     884\n",
              "04383d89810d0113066c28b631097711d2550b04     867\n",
              "Name: PlayCount, dtype: int64"
            ]
          },
          "metadata": {
            "tags": []
          },
          "execution_count": 22
        }
      ]
    },
    {
      "cell_type": "code",
      "metadata": {
        "id": "704ba85f",
        "colab": {
          "base_uri": "https://localhost:8080/"
        },
        "outputId": "7977562b-88cd-4f4e-fb3d-4a1150ce31d6"
      },
      "source": [
        "user_count.sort_values(ascending=True).head()"
      ],
      "id": "704ba85f",
      "execution_count": null,
      "outputs": [
        {
          "output_type": "execute_result",
          "data": {
            "text/plain": [
              "user_id\n",
              "219c456aaa463013ec3e08ed10ab1b5cded1a46e    5\n",
              "13e24d4e0a2565607d5d1c5a734cff9c347044df    5\n",
              "be8429f24fc9d4a9c629d3807948c51e7a0a2f9b    5\n",
              "d431e054366a0fb5a9adf4c15728b8948857eb57    5\n",
              "46081c034ec6f930d5f14c9cae5a9dfbac6ec171    5\n",
              "Name: PlayCount, dtype: int64"
            ]
          },
          "metadata": {
            "tags": []
          },
          "execution_count": 23
        }
      ]
    },
    {
      "cell_type": "code",
      "metadata": {
        "id": "81517091",
        "colab": {
          "base_uri": "https://localhost:8080/",
          "height": 865
        },
        "outputId": "d5577d83-fe35-443b-cf67-d39be1de65c4"
      },
      "source": [
        "user_count1.plot(kind=\"bar\",figsize=(20,10))"
      ],
      "id": "81517091",
      "execution_count": null,
      "outputs": [
        {
          "output_type": "execute_result",
          "data": {
            "text/plain": [
              "<matplotlib.axes._subplots.AxesSubplot at 0x7f4e11316590>"
            ]
          },
          "metadata": {
            "tags": []
          },
          "execution_count": 24
        },
        {
          "output_type": "display_data",
          "data": {
            "image/png": "[encoded data removed]",
            "text/plain": [
              "<Figure size 1440x720 with 1 Axes>"
            ]
          },
          "metadata": {
            "tags": [],
            "needs_background": "light"
          }
        }
      ]
    },
    {
      "cell_type": "markdown",
      "metadata": {
        "id": "3ab02695"
      },
      "source": [
        "# Most frequent Song ID"
      ],
      "id": "3ab02695"
    },
    {
      "cell_type": "code",
      "metadata": {
        "id": "4010ec3f",
        "colab": {
          "base_uri": "https://localhost:8080/",
          "height": 721
        },
        "outputId": "2b141732-c0cd-4842-e16f-28a3ac1d3c29"
      },
      "source": [
        "freq2 = song_df.loc[:,'song_id'].value_counts()[:20] \n",
        "my_colors = list(islice(cycle(['b', 'r', 'g', 'y', 'k']), None, len(freq2)))\n",
        "freq2.plot(kind=\"bar\",figsize=(20,10),stacked = True,color = my_colors)"
      ],
      "id": "4010ec3f",
      "execution_count": null,
      "outputs": [
        {
          "output_type": "execute_result",
          "data": {
            "text/plain": [
              "<matplotlib.axes._subplots.AxesSubplot at 0x7f4e0fa48910>"
            ]
          },
          "metadata": {
            "tags": []
          },
          "execution_count": 25
        },
        {
          "output_type": "display_data",
          "data": {
            "image/png": "[encoded data removed]",
            "text/plain": [
              "<Figure size 1440x720 with 1 Axes>"
            ]
          },
          "metadata": {
            "tags": [],
            "needs_background": "light"
          }
        }
      ]
    },
    {
      "cell_type": "markdown",
      "metadata": {
        "id": "a102d328"
      },
      "source": [
        "# Grouping data using Song ID"
      ],
      "id": "a102d328"
    },
    {
      "cell_type": "code",
      "metadata": {
        "id": "46909368",
        "colab": {
          "base_uri": "https://localhost:8080/"
        },
        "outputId": "684fc981-e8ca-49a9-f221-d9b5531e2949"
      },
      "source": [
        "song_count = song_df.groupby('song_id')['PlayCount'].sum()\n",
        "song_count1 = song_count.sort_values(ascending = False).head(20)\n",
        "song_count1"
      ],
      "id": "46909368",
      "execution_count": null,
      "outputs": [
        {
          "output_type": "execute_result",
          "data": {
            "text/plain": [
              "song_id\n",
              "SOBONKR12A58A7A7E0    35432\n",
              "SOAUWYT12A81C206F1    33179\n",
              "SOSXLTC12AF72A7F54    24359\n",
              "SOFRQTD12A81C233C0    19454\n",
              "SOEGIYH12A6D4FC0E3    17115\n",
              "SOAXGDH12A8C13F8A1    14279\n",
              "SONYKOW12AB01849C9    12392\n",
              "SOVDSJC12A58A7A271    11610\n",
              "SOUFTBI12AB0183F65    10794\n",
              "SOHTKMO12AB01843B0    10515\n",
              "SOPUCYA12A8C13A694     9921\n",
              "SOOFYTN12A6D4F9B35     9685\n",
              "SOBOUPA12A6D4F81F1     8972\n",
              "SODJWHY12A8C142CCE     8718\n",
              "SOLFXKT12AB017E3E0     8093\n",
              "SOTCMDJ12A6D4F8528     7969\n",
              "SOFLJQZ12A6D4FADA6     7895\n",
              "SOTWNDJ12A8C143984     7331\n",
              "SOUVTSM12AC468F6A7     7210\n",
              "SOUNZHU12A8AE47481     7052\n",
              "Name: PlayCount, dtype: int64"
            ]
          },
          "metadata": {
            "tags": []
          },
          "execution_count": 26
        }
      ]
    },
    {
      "cell_type": "code",
      "metadata": {
        "id": "233150ab",
        "colab": {
          "base_uri": "https://localhost:8080/"
        },
        "outputId": "a9c31127-3a9b-4fef-acbc-47b4ec73720f"
      },
      "source": [
        "song_count.sort_values(ascending=True).head()"
      ],
      "id": "233150ab",
      "execution_count": null,
      "outputs": [
        {
          "output_type": "execute_result",
          "data": {
            "text/plain": [
              "song_id\n",
              "SOIDGCM12A81C2233D    1\n",
              "SOQIZHS12A8C13B4E0    1\n",
              "SOEGPVB12AB0188E0A    1\n",
              "SOEGPWH12A6D4F810C    1\n",
              "SOQIYOI12A81C21693    1\n",
              "Name: PlayCount, dtype: int64"
            ]
          },
          "metadata": {
            "tags": []
          },
          "execution_count": 27
        }
      ]
    },
    {
      "cell_type": "code",
      "metadata": {
        "id": "5503e49f",
        "colab": {
          "base_uri": "https://localhost:8080/",
          "height": 623
        },
        "outputId": "e554b4e5-4ab2-4111-98d7-364d71a65160"
      },
      "source": [
        "song_count1.plot(kind=\"line\",figsize=(20,10))"
      ],
      "id": "5503e49f",
      "execution_count": null,
      "outputs": [
        {
          "output_type": "execute_result",
          "data": {
            "text/plain": [
              "<matplotlib.axes._subplots.AxesSubplot at 0x7f4e0f9a5cd0>"
            ]
          },
          "metadata": {
            "tags": []
          },
          "execution_count": 28
        },
        {
          "output_type": "display_data",
          "data": {
            "image/png": "[encoded data removed]",
            "text/plain": [
              "<Figure size 1440x720 with 1 Axes>"
            ]
          },
          "metadata": {
            "tags": [],
            "needs_background": "light"
          }
        }
      ]
    },
    {
      "cell_type": "markdown",
      "metadata": {
        "id": "e63ab94b"
      },
      "source": [
        "# Very popular artist"
      ],
      "id": "e63ab94b"
    },
    {
      "cell_type": "code",
      "metadata": {
        "id": "786bef0f",
        "colab": {
          "base_uri": "https://localhost:8080/",
          "height": 592
        },
        "outputId": "fc40ca39-a298-4f3b-eb77-25748f7b807c"
      },
      "source": [
        "freq3 = song_df.loc[:,'Artist Name'].value_counts()[:20] \n",
        "freq3.plot(kind=\"pie\",figsize=(20,10),stacked = True)"
      ],
      "id": "786bef0f",
      "execution_count": null,
      "outputs": [
        {
          "output_type": "execute_result",
          "data": {
            "text/plain": [
              "<matplotlib.axes._subplots.AxesSubplot at 0x7f4e0fad7ad0>"
            ]
          },
          "metadata": {
            "tags": []
          },
          "execution_count": 29
        },
        {
          "output_type": "display_data",
          "data": {
            "image/png": "[encoded data removed]",
            "text/plain": [
              "<Figure size 1440x720 with 1 Axes>"
            ]
          },
          "metadata": {
            "tags": []
          }
        }
      ]
    },
    {
      "cell_type": "markdown",
      "metadata": {
        "id": "6a40e9d0"
      },
      "source": [
        "# Grouping songs using artist name"
      ],
      "id": "6a40e9d0"
    },
    {
      "cell_type": "code",
      "metadata": {
        "id": "db7f5e58",
        "colab": {
          "base_uri": "https://localhost:8080/"
        },
        "outputId": "70555828-3e3e-42fb-80b1-9c9f7ce296bc"
      },
      "source": [
        "artist = song_df.groupby('Artist Name')['PlayCount'].sum()\n",
        "artist1 = artist.sort_values(ascending=False).head(20)\n",
        "artist1"
      ],
      "id": "db7f5e58",
      "execution_count": null,
      "outputs": [
        {
          "output_type": "execute_result",
          "data": {
            "text/plain": [
              "Artist Name\n",
              "Kings Of Leon                                                             35857\n",
              "Dwight Yoakam                                                             35688\n",
              "Björk                                                                     35210\n",
              "Coldplay                                                                  32135\n",
              "Florence + The Machine                                                    28224\n",
              "Justin Bieber                                                             26133\n",
              "Alliance Ethnik                                                           21603\n",
              "Train                                                                     21356\n",
              "OneRepublic                                                               20802\n",
              "Harmonia                                                                  19461\n",
              "Jack Johnson                                                              18333\n",
              "Linkin Park                                                               18256\n",
              "Eminem                                                                    17681\n",
              "The Black Keys                                                            17366\n",
              "Barry Tuckwell/Academy of St Martin-in-the-Fields/Sir Neville Marriner    17124\n",
              "Muse                                                                      17031\n",
              "Taylor Swift                                                              16547\n",
              "Metallica                                                                 16105\n",
              "John Mayer                                                                14979\n",
              "Radiohead                                                                 14010\n",
              "Name: PlayCount, dtype: int64"
            ]
          },
          "metadata": {
            "tags": []
          },
          "execution_count": 30
        }
      ]
    },
    {
      "cell_type": "code",
      "metadata": {
        "id": "95fad972",
        "colab": {
          "base_uri": "https://localhost:8080/"
        },
        "outputId": "ed7836a0-ec45-4f06-afe0-409082c29f55"
      },
      "source": [
        "artist.sort_values(ascending=True).head()"
      ],
      "id": "95fad972",
      "execution_count": null,
      "outputs": [
        {
          "output_type": "execute_result",
          "data": {
            "text/plain": [
              "Artist Name\n",
              "Özlem Tekin            1\n",
              "Freeway / Rick Ross    1\n",
              "Bjørn Afzelius         1\n",
              "Bjørn Berge            1\n",
              "Scott Reeder           1\n",
              "Name: PlayCount, dtype: int64"
            ]
          },
          "metadata": {
            "tags": []
          },
          "execution_count": 31
        }
      ]
    },
    {
      "cell_type": "code",
      "metadata": {
        "id": "1474cd74",
        "colab": {
          "base_uri": "https://localhost:8080/",
          "height": 592
        },
        "outputId": "a0d6d8cb-dd4c-4cd1-ef98-167f4444198b"
      },
      "source": [
        "artist1.plot(kind=\"pie\",figsize=(20,10))"
      ],
      "id": "1474cd74",
      "execution_count": null,
      "outputs": [
        {
          "output_type": "execute_result",
          "data": {
            "text/plain": [
              "<matplotlib.axes._subplots.AxesSubplot at 0x7f4e0f838750>"
            ]
          },
          "metadata": {
            "tags": []
          },
          "execution_count": 32
        },
        {
          "output_type": "display_data",
          "data": {
            "image/png": "[encoded data removed]",
            "text/plain": [
              "<Figure size 1440x720 with 1 Axes>"
            ]
          },
          "metadata": {
            "tags": []
          }
        }
      ]
    },
    {
      "cell_type": "markdown",
      "metadata": {
        "id": "97df9862"
      },
      "source": [
        "# Most popular relase"
      ],
      "id": "97df9862"
    },
    {
      "cell_type": "code",
      "metadata": {
        "id": "f7c67918",
        "colab": {
          "base_uri": "https://localhost:8080/",
          "height": 936
        },
        "outputId": "639ca397-7206-4fb7-8095-1185d5dda88c"
      },
      "source": [
        "freq2 = song_df.loc[:,'Title'].value_counts()[:20] \n",
        "my_colors = list(islice(cycle(['b', 'r', 'g', 'y', 'k']), None, len(freq2)))\n",
        "freq2.plot(kind=\"bar\",figsize=(20,10),stacked = True,color = my_colors)"
      ],
      "id": "f7c67918",
      "execution_count": null,
      "outputs": [
        {
          "output_type": "execute_result",
          "data": {
            "text/plain": [
              "<matplotlib.axes._subplots.AxesSubplot at 0x7f4e0f7d5fd0>"
            ]
          },
          "metadata": {
            "tags": []
          },
          "execution_count": 33
        },
        {
          "output_type": "display_data",
          "data": {
            "image/png": "[encoded data removed]",
            "text/plain": [
              "<Figure size 1440x720 with 1 Axes>"
            ]
          },
          "metadata": {
            "tags": [],
            "needs_background": "light"
          }
        }
      ]
    },
    {
      "cell_type": "markdown",
      "metadata": {
        "id": "85fd7c74"
      },
      "source": [
        "# Grouping songs using title"
      ],
      "id": "85fd7c74"
    },
    {
      "cell_type": "code",
      "metadata": {
        "id": "c41923ac",
        "colab": {
          "base_uri": "https://localhost:8080/"
        },
        "outputId": "7b614c58-6012-4985-816d-5eefa2e6842e"
      },
      "source": [
        "title = song_df.groupby('Title')['PlayCount'].sum()\n",
        "title1 = title.sort_values(ascending = False).head(20)\n",
        "title1"
      ],
      "id": "c41923ac",
      "execution_count": null,
      "outputs": [
        {
          "output_type": "execute_result",
          "data": {
            "text/plain": [
              "Title\n",
              "You're The One                                                         35738\n",
              "Undo                                                                   33179\n",
              "Revelry                                                                24359\n",
              "Sehr kosmisch                                                          19454\n",
              "Horn Concerto No. 4 in E flat K495: II. Romance (Andante cantabile)    17115\n",
              "Dog Days Are Over (Radio Edit)                                         14279\n",
              "Secrets                                                                12492\n",
              "Ain't Misbehavin                                                       11610\n",
              "Invalid                                                                10794\n",
              "Catch You Baby (Steve Pitron & Max Sanna Radio Edit)                   10515\n",
              "Canada                                                                  9927\n",
              "Représente                                                              9685\n",
              "Sincerité Et Jalousie                                                   8972\n",
              "Hey_ Soul Sister                                                        8718\n",
              "Fireflies                                                               8155\n",
              "The Gift                                                                7999\n",
              "Tive Sim                                                                7896\n",
              "Marry Me                                                                7364\n",
              "Drop The World                                                          7210\n",
              "I CAN'T GET STARTED                                                     7052\n",
              "Name: PlayCount, dtype: int64"
            ]
          },
          "metadata": {
            "tags": []
          },
          "execution_count": 34
        }
      ]
    },
    {
      "cell_type": "code",
      "metadata": {
        "id": "189d7db8",
        "colab": {
          "base_uri": "https://localhost:8080/"
        },
        "outputId": "fba0f9f2-d7c9-46d2-9f0f-a9d2db58d16f"
      },
      "source": [
        "title.sort_values(ascending = True).head()"
      ],
      "id": "189d7db8",
      "execution_count": null,
      "outputs": [
        {
          "output_type": "execute_result",
          "data": {
            "text/plain": [
              "Title\n",
              "Love Has A Diameter    1\n",
              "Las Dos Nenas          1\n",
              "Las Floried            1\n",
              "Las Guerras            1\n",
              "Las Isabeles           1\n",
              "Name: PlayCount, dtype: int64"
            ]
          },
          "metadata": {
            "tags": []
          },
          "execution_count": 35
        }
      ]
    },
    {
      "cell_type": "code",
      "metadata": {
        "id": "81412e65",
        "colab": {
          "base_uri": "https://localhost:8080/",
          "height": 825
        },
        "outputId": "7f125758-5045-4570-db2a-a54e8e90a4e2"
      },
      "source": [
        "plt.figure(figsize=(20,8))\n",
        "sns.barplot(title1.index,title1.values)\n",
        "plt.xticks(rotation=90)\n",
        "plt.show()"
      ],
      "id": "81412e65",
      "execution_count": null,
      "outputs": [
        {
          "output_type": "display_data",
          "data": {
            "image/png": "[encoded data removed]",
            "text/plain": [
              "<Figure size 1440x576 with 1 Axes>"
            ]
          },
          "metadata": {
            "tags": [],
            "needs_background": "light"
          }
        }
      ]
    },
    {
      "cell_type": "markdown",
      "metadata": {
        "id": "4c5ba704"
      },
      "source": [
        "# Popular artist and thier songs\n",
        "**1.King of leon**"
      ],
      "id": "4c5ba704"
    },
    {
      "cell_type": "code",
      "metadata": {
        "id": "914f730f",
        "colab": {
          "base_uri": "https://localhost:8080/"
        },
        "outputId": "0bd85c69-5a67-47f5-ba7f-fc4667e67004"
      },
      "source": [
        "pop1 = song_df['Artist Name']=='Kings Of Leon'\n",
        "pop_1 = song_df[pop1]\n",
        "a = pop_1['Title'].unique()\n",
        "print(a)"
      ],
      "id": "914f730f",
      "execution_count": null,
      "outputs": [
        {
          "output_type": "stream",
          "text": [
            "['Genius' 'Revelry' 'Use Somebody' 'Knocked Up' 'Closer'\n",
            " \"Molly's Chambers\" 'Ragoo' 'Dusty' 'Manhattan' 'Camaro' 'I Want You'\n",
            " 'Cold Desert' 'Holy Roller Novocaine' 'Arizona' 'McFearless'\n",
            " 'Be Somebody' 'Day Old Blues' 'Rememo' 'Happy Alone' 'King Of The Rodeo'\n",
            " 'Milk' 'Pistol Of Fire' 'The Runner' 'Velvet Snow' \"Joe's Head\" 'Charmer'\n",
            " 'California Waiting' 'Trunk' 'Trani' 'Where Nobody Knows' 'Fans'\n",
            " 'Slow Night_ So Long' 'Soft' 'Razz' 'Taper Jean Girl' 'Black Thumbnail'\n",
            " 'Beneath The Surface' 'Frontier City' 'Four Kicks']\n"
          ],
          "name": "stdout"
        }
      ]
    },
    {
      "cell_type": "code",
      "metadata": {
        "id": "5f0c6bc0",
        "colab": {
          "base_uri": "https://localhost:8080/"
        },
        "outputId": "6dff2da3-5a66-47b3-a0ba-128cbe12f136"
      },
      "source": [
        "print(\"Number of songs created by King of Leon:\",len(a))"
      ],
      "id": "5f0c6bc0",
      "execution_count": null,
      "outputs": [
        {
          "output_type": "stream",
          "text": [
            "Number of songs created by King of Leon: 39\n"
          ],
          "name": "stdout"
        }
      ]
    },
    {
      "cell_type": "markdown",
      "metadata": {
        "id": "ab766e78"
      },
      "source": [
        "**2.Dwight Yoakam**     "
      ],
      "id": "ab766e78"
    },
    {
      "cell_type": "code",
      "metadata": {
        "id": "deaca121",
        "colab": {
          "base_uri": "https://localhost:8080/"
        },
        "outputId": "e7fdad71-225f-4335-aa10-36c3192736a9"
      },
      "source": [
        "pop2 = song_df['Artist Name']=='Dwight Yoakam'\n",
        "pop_2 = song_df[pop2]\n",
        "b = pop_2['Title'].unique()\n",
        "print(b)"
      ],
      "id": "deaca121",
      "execution_count": null,
      "outputs": [
        {
          "output_type": "stream",
          "text": [
            "[\"You're The One\" 'Long White Cadillac (2006 Remastered LP Version)'\n",
            " 'Rocky Road Blues (Live at the Roxy-1986) (Previously Unissued)'\n",
            " 'One More Night (LP Version)' 'Nothing (LP Version)'\n",
            " 'Pocket Of A Clown (2006 Remastered LP Version)'\n",
            " \"Traveler's Lantern (LP Version)\" \"That's Okay (LP Version)\"\n",
            " 'This Much I Know (LP Version)'\n",
            " \"Readin'_ Rightin'_ Rt. 23 (Acoustic LP Version)\"\n",
            " 'Louisville (2006 Remastered LP Version)'\n",
            " 'Mystery Train (2006 Remastered Live Version)' 'Near You (LP Version)'\n",
            " 'Ring Of Fire (Album Version) (2006 Remastered)' 'Listen (LP Version)'\n",
            " 'Cattle Call' 'Baby Why Not (LP Version)'\n",
            " \"What I Don't Know (LP Version)\"]\n"
          ],
          "name": "stdout"
        }
      ]
    },
    {
      "cell_type": "code",
      "metadata": {
        "id": "dcf5b9a3",
        "colab": {
          "base_uri": "https://localhost:8080/"
        },
        "outputId": "3a067729-99d7-4398-baaa-4409a6fc315a"
      },
      "source": [
        "print(\"Number of songs created by Dwight Yoakam:\",len(b))"
      ],
      "id": "dcf5b9a3",
      "execution_count": null,
      "outputs": [
        {
          "output_type": "stream",
          "text": [
            "Number of songs created by Dwight Yoakam: 18\n"
          ],
          "name": "stdout"
        }
      ]
    },
    {
      "cell_type": "markdown",
      "metadata": {
        "id": "88b4fbf7"
      },
      "source": [
        "**3.Björk**"
      ],
      "id": "88b4fbf7"
    },
    {
      "cell_type": "code",
      "metadata": {
        "id": "d5495332",
        "colab": {
          "base_uri": "https://localhost:8080/"
        },
        "outputId": "692f1123-316a-412e-c195-24c22693e845"
      },
      "source": [
        "pop3 = song_df['Artist Name']=='Björk'\n",
        "pop_3 = song_df[pop3]\n",
        "c = pop_3['Title'].unique()\n",
        "print(c)"
      ],
      "id": "d5495332",
      "execution_count": null,
      "outputs": [
        {
          "output_type": "stream",
          "text": [
            "['Undo' \"It's Oh So Quiet\" 'Army of Me' 'Cover Me' 'Human Behaviour'\n",
            " 'Come To Me' 'Possibly Maybe' 'Scary' 'Big Time Sensuality'\n",
            " 'The Modern Things' 'Where Is The Line' 'Hidden Place' 'Harm of Will'\n",
            " 'Alarm Call' 'The Anchor Song' 'Unravel' 'Isobel' 'Show Me Forgiveness'\n",
            " 'Cocoon' 'I Remember You' 'Submarine' 'Ancestors' \"Mouth's Cradle\"\n",
            " \"It's Not Up to You\" 'Scatterheart' 'Headphones'\n",
            " 'Dull Flame Of Desire Mark Stent Album Mix' 'Unison'\n",
            " 'Violently Happy (Fluke - Even Tempered)' 'Generous Palmstroke'\n",
            " 'Mother Heroic' 'There Is More to Life Than This' 'Glora'\n",
            " 'In the Musicals' 'Army Of Me (ABA All-Stars Mix)'\n",
            " 'Violently Happy (Massey Mix - Long)' 'Öll Birtan']\n"
          ],
          "name": "stdout"
        }
      ]
    },
    {
      "cell_type": "code",
      "metadata": {
        "id": "5466e51f",
        "colab": {
          "base_uri": "https://localhost:8080/"
        },
        "outputId": "9f16f07e-75cd-4342-e3fe-51d52b07de68"
      },
      "source": [
        "print(\"Number of songs created by Bjork:\",len(c))"
      ],
      "id": "5466e51f",
      "execution_count": null,
      "outputs": [
        {
          "output_type": "stream",
          "text": [
            "Number of songs created by Bjork: 37\n"
          ],
          "name": "stdout"
        }
      ]
    },
    {
      "cell_type": "markdown",
      "metadata": {
        "id": "172a3fb8"
      },
      "source": [
        "**4.Coldplay**   "
      ],
      "id": "172a3fb8"
    },
    {
      "cell_type": "code",
      "metadata": {
        "id": "0280c372",
        "colab": {
          "base_uri": "https://localhost:8080/"
        },
        "outputId": "e4c226e5-589a-4b12-c52a-fb3ab55220a4"
      },
      "source": [
        "pop4 = song_df['Artist Name']=='Coldplay'\n",
        "pop_4 = song_df[pop4]\n",
        "d = pop_4['Title'].unique()\n",
        "print(d)"
      ],
      "id": "0280c372",
      "execution_count": null,
      "outputs": [
        {
          "output_type": "stream",
          "text": [
            "['Yellow' 'The Scientist' 'Fix You' \"Don't Panic\" 'Sparks' 'Clocks'\n",
            " 'Life In Technicolor ii' 'Such A Rush' 'Fix You (Live)' 'Speed Of Sound'\n",
            " 'Lost!' 'God Put A Smile Upon Your Face' 'Brothers & Sisters'\n",
            " 'A Rush Of Blood To The Head' 'Clocks (Live In Sydney)' 'One I Love'\n",
            " 'For You' 'You Only Live Twice (Live From Norway)' 'Shiver'\n",
            " 'Swallowed In The Sea' 'In My Place' 'Postcards From Far Away'\n",
            " 'Glass Of Water' \"Things I Don't Understand\" 'Strawberry Swing' '42'\n",
            " 'Til Kingdom Come' 'The Goldrush' 'X & Y' 'Life In Technicolor'\n",
            " 'We Never Change' 'Bigger Stronger' 'What If' 'Trouble'\n",
            " \"Everything's Not Lost (Includes Hidden Track 'Life Is For Living')\"\n",
            " 'Only Superstition' 'Politik' 'Careful Where You Stand' 'Warning Sign'\n",
            " 'See You Soon' 'Spies' 'Cemeteries Of London' 'A Whisper' 'A Message'\n",
            " 'Square One' 'Low' 'I Bloom Blaum' 'I Ran Away'\n",
            " 'The World Turned Upside Down' 'Talk (Junkie XL Remix)'\n",
            " 'Help Is Round The Corner' 'Daylight' 'Yes' 'High Speed'\n",
            " \"Now My Feet Won't Touch The Ground\" 'Twisted Logic' 'Violet Hill'\n",
            " 'White Shadows' 'See You Soon (Live In Sydney)' 'Proof' 'Amsterdam'\n",
            " '1.36' 'Shiver (Live In Sydney)' \"Everything's Not Lost (Live In Sydney)\"\n",
            " 'A Rush Of Blood To The Head (Live In Sydney)' 'Yellow (Live In Sydney)'\n",
            " 'Talk (Francois K Dub)' 'Sleeping Sun'\n",
            " 'Pour Me (Live At The Hollywood Bowl)' 'Lost?' 'Moses (Live In Sydney)'\n",
            " 'Life In Technicolor ii (Live @ The O2_ London)'\n",
            " 'In My Place (Live In Sydney)' 'Talk (Thin White Duke Mix)'\n",
            " 'Speed Of Sound (Live)' 'Amsterdam (Live In Sydney)']\n"
          ],
          "name": "stdout"
        }
      ]
    },
    {
      "cell_type": "code",
      "metadata": {
        "id": "d9f3140e",
        "colab": {
          "base_uri": "https://localhost:8080/"
        },
        "outputId": "d54b9841-2285-4780-f6ff-81dc64512dd9"
      },
      "source": [
        "print(\"Number of songs created by coldplay:\",len(d))"
      ],
      "id": "d9f3140e",
      "execution_count": null,
      "outputs": [
        {
          "output_type": "stream",
          "text": [
            "Number of songs created by coldplay: 76\n"
          ],
          "name": "stdout"
        }
      ]
    },
    {
      "cell_type": "markdown",
      "metadata": {
        "id": "442cf5e3"
      },
      "source": [
        "**5.Florence + The Machine** "
      ],
      "id": "442cf5e3"
    },
    {
      "cell_type": "code",
      "metadata": {
        "id": "b1ff1d37",
        "colab": {
          "base_uri": "https://localhost:8080/"
        },
        "outputId": "63c06db4-b8c5-4932-8ca9-e76019cc2998"
      },
      "source": [
        "pop5 = song_df['Artist Name']=='Florence + The Machine'\n",
        "pop_5 = song_df[pop5]\n",
        "e = pop_5['Title'].unique()\n",
        "print(e)"
      ],
      "id": "b1ff1d37",
      "execution_count": null,
      "outputs": [
        {
          "output_type": "stream",
          "text": [
            "['Dog Days Are Over (Radio Edit)' 'Cosmic Love'\n",
            " 'Rabbit Heart (Raise It Up)' \"You've Got The Love\" 'Kiss With A Fist'\n",
            " \"I'm Not Calling You A Liar\" 'My Boy Builds Coffins'\n",
            " 'Dog Days Are Over (Demo)' 'Hardest Of Hearts' 'Bird Song'\n",
            " 'Between Two Lungs' 'Are You Hurting The One You Love?' 'Falling'\n",
            " 'Hospital Beds' 'Bird Song Intro' 'Ghosts (Demo)'\n",
            " 'Girl With One Eye (Bayou Percussion Version)']\n"
          ],
          "name": "stdout"
        }
      ]
    },
    {
      "cell_type": "code",
      "metadata": {
        "id": "be3bdeb3",
        "colab": {
          "base_uri": "https://localhost:8080/"
        },
        "outputId": "8aec20ec-f909-4ec1-de08-c7759d8a32b1"
      },
      "source": [
        "print(\"Number of songs created by Florence +The machine:\",len(e))"
      ],
      "id": "be3bdeb3",
      "execution_count": null,
      "outputs": [
        {
          "output_type": "stream",
          "text": [
            "Number of songs created by Florence +The machine: 17\n"
          ],
          "name": "stdout"
        }
      ]
    },
    {
      "cell_type": "markdown",
      "metadata": {
        "id": "ad1eaf63"
      },
      "source": [
        "# Showing top 10 artists with maximum average per song"
      ],
      "id": "ad1eaf63"
    },
    {
      "cell_type": "code",
      "metadata": {
        "id": "91b72023",
        "colab": {
          "base_uri": "https://localhost:8080/",
          "height": 388
        },
        "outputId": "35b50eab-b35e-403f-c676-de855b2ceb22"
      },
      "source": [
        "max_art = song_df[['Artist Name','PlayCount']].groupby('Artist Name').mean().sort_values(by='PlayCount',ascending=False)[:10]\n",
        "max_art"
      ],
      "id": "91b72023",
      "execution_count": null,
      "outputs": [
        {
          "output_type": "execute_result",
          "data": {
            "text/html": [
              "<div>\n",
              "<style scoped>\n",
              "    .dataframe tbody tr th:only-of-type {\n",
              "        vertical-align: middle;\n",
              "    }\n",
              "\n",
              "    .dataframe tbody tr th {\n",
              "        vertical-align: top;\n",
              "    }\n",
              "\n",
              "    .dataframe thead th {\n",
              "        text-align: right;\n",
              "    }\n",
              "</style>\n",
              "<table border=\"1\" class=\"dataframe\">\n",
              "  <thead>\n",
              "    <tr style=\"text-align: right;\">\n",
              "      <th></th>\n",
              "      <th>PlayCount</th>\n",
              "    </tr>\n",
              "    <tr>\n",
              "      <th>Artist Name</th>\n",
              "      <th></th>\n",
              "    </tr>\n",
              "  </thead>\n",
              "  <tbody>\n",
              "    <tr>\n",
              "      <th>Kilgore</th>\n",
              "      <td>462.0</td>\n",
              "    </tr>\n",
              "    <tr>\n",
              "      <th>Merle Travis And Joe Maphis</th>\n",
              "      <td>131.0</td>\n",
              "    </tr>\n",
              "    <tr>\n",
              "      <th>The Family Stand</th>\n",
              "      <td>125.0</td>\n",
              "    </tr>\n",
              "    <tr>\n",
              "      <th>Giuseppe Di Stefano</th>\n",
              "      <td>117.0</td>\n",
              "    </tr>\n",
              "    <tr>\n",
              "      <th>Mousse T.</th>\n",
              "      <td>112.0</td>\n",
              "    </tr>\n",
              "    <tr>\n",
              "      <th>The Gossip / Tracy and the Plastics</th>\n",
              "      <td>105.0</td>\n",
              "    </tr>\n",
              "    <tr>\n",
              "      <th>Ruddy Thomas &amp; Welton Irie</th>\n",
              "      <td>87.0</td>\n",
              "    </tr>\n",
              "    <tr>\n",
              "      <th>Hairy Diamond</th>\n",
              "      <td>85.5</td>\n",
              "    </tr>\n",
              "    <tr>\n",
              "      <th>Electrocute (featuring Paul Pm)</th>\n",
              "      <td>84.0</td>\n",
              "    </tr>\n",
              "    <tr>\n",
              "      <th>Kira Neris</th>\n",
              "      <td>81.0</td>\n",
              "    </tr>\n",
              "  </tbody>\n",
              "</table>\n",
              "</div>"
            ],
            "text/plain": [
              "                                     PlayCount\n",
              "Artist Name                                   \n",
              "Kilgore                                  462.0\n",
              "Merle Travis And Joe Maphis              131.0\n",
              "The Family Stand                         125.0\n",
              "Giuseppe Di Stefano                      117.0\n",
              "Mousse T.                                112.0\n",
              "The Gossip / Tracy and the Plastics      105.0\n",
              "Ruddy Thomas & Welton Irie                87.0\n",
              "Hairy Diamond                             85.5\n",
              "Electrocute (featuring Paul Pm)           84.0\n",
              "Kira Neris                                81.0"
            ]
          },
          "metadata": {
            "tags": []
          },
          "execution_count": 47
        }
      ]
    },
    {
      "cell_type": "markdown",
      "metadata": {
        "id": "feea634e"
      },
      "source": [
        "# Songs heard by top user"
      ],
      "id": "feea634e"
    },
    {
      "cell_type": "code",
      "metadata": {
        "id": "0471013a",
        "colab": {
          "base_uri": "https://localhost:8080/",
          "height": 1000
        },
        "outputId": "16f6e216-c139-4f17-a67b-d1391e780642"
      },
      "source": [
        "top_user = song_df[song_df['user_id']== '7d90be8dfdbde170f036ce8a4b915440137cb11c']\n",
        "top_user.sort_values(by='Artist Name')"
      ],
      "id": "0471013a",
      "execution_count": null,
      "outputs": [
        {
          "output_type": "execute_result",
          "data": {
            "text/html": [
              "<div>\n",
              "<style scoped>\n",
              "    .dataframe tbody tr th:only-of-type {\n",
              "        vertical-align: middle;\n",
              "    }\n",
              "\n",
              "    .dataframe tbody tr th {\n",
              "        vertical-align: top;\n",
              "    }\n",
              "\n",
              "    .dataframe thead th {\n",
              "        text-align: right;\n",
              "    }\n",
              "</style>\n",
              "<table border=\"1\" class=\"dataframe\">\n",
              "  <thead>\n",
              "    <tr style=\"text-align: right;\">\n",
              "      <th></th>\n",
              "      <th>user_id</th>\n",
              "      <th>song_id</th>\n",
              "      <th>PlayCount</th>\n",
              "      <th>Artist Name</th>\n",
              "      <th>Title</th>\n",
              "    </tr>\n",
              "  </thead>\n",
              "  <tbody>\n",
              "    <tr>\n",
              "      <th>259608</th>\n",
              "      <td>7d90be8dfdbde170f036ce8a4b915440137cb11c</td>\n",
              "      <td>SOVFEGN12AF72A3369</td>\n",
              "      <td>1</td>\n",
              "      <td>A.A. Bondy</td>\n",
              "      <td>Killed Myself When I Was Young</td>\n",
              "    </tr>\n",
              "    <tr>\n",
              "      <th>259602</th>\n",
              "      <td>7d90be8dfdbde170f036ce8a4b915440137cb11c</td>\n",
              "      <td>SOQBYQC12A8C143F2A</td>\n",
              "      <td>1</td>\n",
              "      <td>Alceu Valença</td>\n",
              "      <td>No Balanço Da Canoa</td>\n",
              "    </tr>\n",
              "    <tr>\n",
              "      <th>259582</th>\n",
              "      <td>7d90be8dfdbde170f036ce8a4b915440137cb11c</td>\n",
              "      <td>SOKXERP12A6D4F9895</td>\n",
              "      <td>1</td>\n",
              "      <td>Ana Caram</td>\n",
              "      <td>Overjoyed / Ancora</td>\n",
              "    </tr>\n",
              "    <tr>\n",
              "      <th>259621</th>\n",
              "      <td>7d90be8dfdbde170f036ce8a4b915440137cb11c</td>\n",
              "      <td>SODHITM12A58A79070</td>\n",
              "      <td>1</td>\n",
              "      <td>Baby Huey &amp; The Baby Sitters</td>\n",
              "      <td>Listen To Me (LP Version)</td>\n",
              "    </tr>\n",
              "    <tr>\n",
              "      <th>259593</th>\n",
              "      <td>7d90be8dfdbde170f036ce8a4b915440137cb11c</td>\n",
              "      <td>SOPRYVX12AF72A5B7F</td>\n",
              "      <td>1</td>\n",
              "      <td>Bad Manners</td>\n",
              "      <td>Special Brew</td>\n",
              "    </tr>\n",
              "    <tr>\n",
              "      <th>259581</th>\n",
              "      <td>7d90be8dfdbde170f036ce8a4b915440137cb11c</td>\n",
              "      <td>SOECRTE12A8C14296D</td>\n",
              "      <td>1</td>\n",
              "      <td>Blue October</td>\n",
              "      <td>Blue Skies</td>\n",
              "    </tr>\n",
              "    <tr>\n",
              "      <th>259591</th>\n",
              "      <td>7d90be8dfdbde170f036ce8a4b915440137cb11c</td>\n",
              "      <td>SOGYTIV12A6D4FBF10</td>\n",
              "      <td>1</td>\n",
              "      <td>Carla Bruni</td>\n",
              "      <td>Promises Like Pie-Crust (Album)</td>\n",
              "    </tr>\n",
              "    <tr>\n",
              "      <th>259598</th>\n",
              "      <td>7d90be8dfdbde170f036ce8a4b915440137cb11c</td>\n",
              "      <td>SOTGHQR12A8C1406C5</td>\n",
              "      <td>1</td>\n",
              "      <td>Chris Bathgate</td>\n",
              "      <td>Coda</td>\n",
              "    </tr>\n",
              "    <tr>\n",
              "      <th>259579</th>\n",
              "      <td>7d90be8dfdbde170f036ce8a4b915440137cb11c</td>\n",
              "      <td>SOTIFKV12A6D4FAD83</td>\n",
              "      <td>2</td>\n",
              "      <td>D-Flame Feat. Wayne Marshall</td>\n",
              "      <td>Call Me Crazy</td>\n",
              "    </tr>\n",
              "    <tr>\n",
              "      <th>259620</th>\n",
              "      <td>7d90be8dfdbde170f036ce8a4b915440137cb11c</td>\n",
              "      <td>SODZVMN12AC3DF81C6</td>\n",
              "      <td>1</td>\n",
              "      <td>Datarock</td>\n",
              "      <td>Give It Up (Kissy Sell Out's 4x4 Cello Mix)</td>\n",
              "    </tr>\n",
              "    <tr>\n",
              "      <th>259609</th>\n",
              "      <td>7d90be8dfdbde170f036ce8a4b915440137cb11c</td>\n",
              "      <td>SOIIUPO12A6D4F7EA8</td>\n",
              "      <td>2</td>\n",
              "      <td>Dion &amp; The Belmonts</td>\n",
              "      <td>A Teenager In Love</td>\n",
              "    </tr>\n",
              "    <tr>\n",
              "      <th>259583</th>\n",
              "      <td>7d90be8dfdbde170f036ce8a4b915440137cb11c</td>\n",
              "      <td>SOJAMRN12AB018BA2B</td>\n",
              "      <td>5</td>\n",
              "      <td>Eartha Kitt</td>\n",
              "      <td>Let's Do It_ Let's Fall In Love</td>\n",
              "    </tr>\n",
              "    <tr>\n",
              "      <th>259612</th>\n",
              "      <td>7d90be8dfdbde170f036ce8a4b915440137cb11c</td>\n",
              "      <td>SOQBRAQ12A58A7D473</td>\n",
              "      <td>5</td>\n",
              "      <td>Eels</td>\n",
              "      <td>My Beloved Monster</td>\n",
              "    </tr>\n",
              "    <tr>\n",
              "      <th>259605</th>\n",
              "      <td>7d90be8dfdbde170f036ce8a4b915440137cb11c</td>\n",
              "      <td>SOQDYRL12A8C13211D</td>\n",
              "      <td>1</td>\n",
              "      <td>Glenn Lewis</td>\n",
              "      <td>Don't You Forget It</td>\n",
              "    </tr>\n",
              "    <tr>\n",
              "      <th>259601</th>\n",
              "      <td>7d90be8dfdbde170f036ce8a4b915440137cb11c</td>\n",
              "      <td>SOBYWZZ12A58A7B90E</td>\n",
              "      <td>1</td>\n",
              "      <td>Hadag Nachash</td>\n",
              "      <td>Gan Haedden (Edden)</td>\n",
              "    </tr>\n",
              "    <tr>\n",
              "      <th>259618</th>\n",
              "      <td>7d90be8dfdbde170f036ce8a4b915440137cb11c</td>\n",
              "      <td>SOAPEQV12A8C13CD31</td>\n",
              "      <td>1</td>\n",
              "      <td>Hird</td>\n",
              "      <td>Getting Closer</td>\n",
              "    </tr>\n",
              "    <tr>\n",
              "      <th>259607</th>\n",
              "      <td>7d90be8dfdbde170f036ce8a4b915440137cb11c</td>\n",
              "      <td>SOMDZLO12AF729A7C1</td>\n",
              "      <td>2</td>\n",
              "      <td>In Flames</td>\n",
              "      <td>Artifacts of the black rain</td>\n",
              "    </tr>\n",
              "    <tr>\n",
              "      <th>259594</th>\n",
              "      <td>7d90be8dfdbde170f036ce8a4b915440137cb11c</td>\n",
              "      <td>SOWVLZC12AB017F4FB</td>\n",
              "      <td>5</td>\n",
              "      <td>Insane Clown Posse</td>\n",
              "      <td>Out</td>\n",
              "    </tr>\n",
              "    <tr>\n",
              "      <th>259624</th>\n",
              "      <td>7d90be8dfdbde170f036ce8a4b915440137cb11c</td>\n",
              "      <td>SOXHIDK12A58A7CFB3</td>\n",
              "      <td>1</td>\n",
              "      <td>Jadakiss / Swizz Beatz / OJ Da Juiceman</td>\n",
              "      <td>Who's Real</td>\n",
              "    </tr>\n",
              "    <tr>\n",
              "      <th>259622</th>\n",
              "      <td>7d90be8dfdbde170f036ce8a4b915440137cb11c</td>\n",
              "      <td>SOMHUFR12A8C14179D</td>\n",
              "      <td>1</td>\n",
              "      <td>Klaus Lage</td>\n",
              "      <td>Ab Jetzt Nicht Mehr</td>\n",
              "    </tr>\n",
              "    <tr>\n",
              "      <th>259600</th>\n",
              "      <td>7d90be8dfdbde170f036ce8a4b915440137cb11c</td>\n",
              "      <td>SOACEQF12A58A7B70E</td>\n",
              "      <td>1</td>\n",
              "      <td>La Portuaria</td>\n",
              "      <td>Escenas De La Vida(En Vivo)</td>\n",
              "    </tr>\n",
              "    <tr>\n",
              "      <th>259596</th>\n",
              "      <td>7d90be8dfdbde170f036ce8a4b915440137cb11c</td>\n",
              "      <td>SOEXMJG12A8C13EC18</td>\n",
              "      <td>1</td>\n",
              "      <td>Led Zeppelin</td>\n",
              "      <td>Ten Years Gone  (Album Version)</td>\n",
              "    </tr>\n",
              "    <tr>\n",
              "      <th>259592</th>\n",
              "      <td>7d90be8dfdbde170f036ce8a4b915440137cb11c</td>\n",
              "      <td>SOQXDUU12A6310E836</td>\n",
              "      <td>1</td>\n",
              "      <td>Marvin Gaye</td>\n",
              "      <td>I Want You</td>\n",
              "    </tr>\n",
              "    <tr>\n",
              "      <th>259586</th>\n",
              "      <td>7d90be8dfdbde170f036ce8a4b915440137cb11c</td>\n",
              "      <td>SOOEEPE12A8AE459A4</td>\n",
              "      <td>2</td>\n",
              "      <td>Metallica</td>\n",
              "      <td>The Unforgiven III</td>\n",
              "    </tr>\n",
              "    <tr>\n",
              "      <th>259611</th>\n",
              "      <td>7d90be8dfdbde170f036ce8a4b915440137cb11c</td>\n",
              "      <td>SOWZREA12A6701D93D</td>\n",
              "      <td>1</td>\n",
              "      <td>Method Man / Busta Rhymes</td>\n",
              "      <td>What's Happenin'</td>\n",
              "    </tr>\n",
              "    <tr>\n",
              "      <th>259617</th>\n",
              "      <td>7d90be8dfdbde170f036ce8a4b915440137cb11c</td>\n",
              "      <td>SOLZTYD12A8C143215</td>\n",
              "      <td>1</td>\n",
              "      <td>Mischa Daniels</td>\n",
              "      <td>Another Place</td>\n",
              "    </tr>\n",
              "    <tr>\n",
              "      <th>259599</th>\n",
              "      <td>7d90be8dfdbde170f036ce8a4b915440137cb11c</td>\n",
              "      <td>SOOCQDM12A8C140869</td>\n",
              "      <td>1</td>\n",
              "      <td>Mungo Jerry</td>\n",
              "      <td>In The Summertime</td>\n",
              "    </tr>\n",
              "    <tr>\n",
              "      <th>259578</th>\n",
              "      <td>7d90be8dfdbde170f036ce8a4b915440137cb11c</td>\n",
              "      <td>SOSLQGG12A6D4F5045</td>\n",
              "      <td>1</td>\n",
              "      <td>Nevermore</td>\n",
              "      <td>Matricide</td>\n",
              "    </tr>\n",
              "    <tr>\n",
              "      <th>259576</th>\n",
              "      <td>7d90be8dfdbde170f036ce8a4b915440137cb11c</td>\n",
              "      <td>SOMPGPP12A6BD55D5F</td>\n",
              "      <td>5</td>\n",
              "      <td>Nine Inch Nails</td>\n",
              "      <td>Vessel</td>\n",
              "    </tr>\n",
              "    <tr>\n",
              "      <th>259625</th>\n",
              "      <td>7d90be8dfdbde170f036ce8a4b915440137cb11c</td>\n",
              "      <td>SOHKZPT12AB0183E4B</td>\n",
              "      <td>2</td>\n",
              "      <td>Okkervil River</td>\n",
              "      <td>Love To A Monster</td>\n",
              "    </tr>\n",
              "    <tr>\n",
              "      <th>259626</th>\n",
              "      <td>7d90be8dfdbde170f036ce8a4b915440137cb11c</td>\n",
              "      <td>SOJSQYL12A81C23901</td>\n",
              "      <td>4</td>\n",
              "      <td>Onar</td>\n",
              "      <td>Xehasmeni Melodia</td>\n",
              "    </tr>\n",
              "    <tr>\n",
              "      <th>259588</th>\n",
              "      <td>7d90be8dfdbde170f036ce8a4b915440137cb11c</td>\n",
              "      <td>SOYYBHE12A6BD53865</td>\n",
              "      <td>1</td>\n",
              "      <td>Ours</td>\n",
              "      <td>La Maison De Mes Parents (Edit)</td>\n",
              "    </tr>\n",
              "    <tr>\n",
              "      <th>259589</th>\n",
              "      <td>7d90be8dfdbde170f036ce8a4b915440137cb11c</td>\n",
              "      <td>SOVOJVL12A6D4F93C1</td>\n",
              "      <td>2</td>\n",
              "      <td>Paolo Nutini</td>\n",
              "      <td>Rewind [Album Version]</td>\n",
              "    </tr>\n",
              "    <tr>\n",
              "      <th>259585</th>\n",
              "      <td>7d90be8dfdbde170f036ce8a4b915440137cb11c</td>\n",
              "      <td>SOAXJHW12A81C21E1F</td>\n",
              "      <td>2</td>\n",
              "      <td>Paramore</td>\n",
              "      <td>Misery Business (Single Version)</td>\n",
              "    </tr>\n",
              "    <tr>\n",
              "      <th>259575</th>\n",
              "      <td>7d90be8dfdbde170f036ce8a4b915440137cb11c</td>\n",
              "      <td>SOKNWRZ12A8C13BF62</td>\n",
              "      <td>1</td>\n",
              "      <td>Postal Service</td>\n",
              "      <td>Natural Anthem (Album)</td>\n",
              "    </tr>\n",
              "    <tr>\n",
              "      <th>259610</th>\n",
              "      <td>7d90be8dfdbde170f036ce8a4b915440137cb11c</td>\n",
              "      <td>SOCXEKQ12AAF3B5490</td>\n",
              "      <td>1</td>\n",
              "      <td>Rammstein</td>\n",
              "      <td>Stripped</td>\n",
              "    </tr>\n",
              "    <tr>\n",
              "      <th>259580</th>\n",
              "      <td>7d90be8dfdbde170f036ce8a4b915440137cb11c</td>\n",
              "      <td>SOTFCUM12A6D4F7D0B</td>\n",
              "      <td>1</td>\n",
              "      <td>Remy</td>\n",
              "      <td>Intro</td>\n",
              "    </tr>\n",
              "    <tr>\n",
              "      <th>259606</th>\n",
              "      <td>7d90be8dfdbde170f036ce8a4b915440137cb11c</td>\n",
              "      <td>SOZJFDM12AB01807DC</td>\n",
              "      <td>1</td>\n",
              "      <td>Rick Ross</td>\n",
              "      <td>Push It</td>\n",
              "    </tr>\n",
              "    <tr>\n",
              "      <th>259590</th>\n",
              "      <td>7d90be8dfdbde170f036ce8a4b915440137cb11c</td>\n",
              "      <td>SOBHRTW12A8AE48014</td>\n",
              "      <td>5</td>\n",
              "      <td>Rolf Harris</td>\n",
              "      <td>The Court Of King Caractacus</td>\n",
              "    </tr>\n",
              "    <tr>\n",
              "      <th>259613</th>\n",
              "      <td>7d90be8dfdbde170f036ce8a4b915440137cb11c</td>\n",
              "      <td>SOAVGMK12A8C144BDD</td>\n",
              "      <td>1</td>\n",
              "      <td>Ryan Leslie</td>\n",
              "      <td>How It Was Supposed To Be</td>\n",
              "    </tr>\n",
              "    <tr>\n",
              "      <th>259604</th>\n",
              "      <td>7d90be8dfdbde170f036ce8a4b915440137cb11c</td>\n",
              "      <td>SOBABRB12A6701DF4B</td>\n",
              "      <td>6</td>\n",
              "      <td>Shania Twain</td>\n",
              "      <td>Nah!</td>\n",
              "    </tr>\n",
              "    <tr>\n",
              "      <th>259623</th>\n",
              "      <td>7d90be8dfdbde170f036ce8a4b915440137cb11c</td>\n",
              "      <td>SOGMHOJ12A6D2282AA</td>\n",
              "      <td>1</td>\n",
              "      <td>Shearwater</td>\n",
              "      <td>Red Sea_ Black Sea</td>\n",
              "    </tr>\n",
              "    <tr>\n",
              "      <th>259619</th>\n",
              "      <td>7d90be8dfdbde170f036ce8a4b915440137cb11c</td>\n",
              "      <td>SOGGUCU12A6D4F76C2</td>\n",
              "      <td>2</td>\n",
              "      <td>Steve Hackett</td>\n",
              "      <td>Hackett To Pieces</td>\n",
              "    </tr>\n",
              "    <tr>\n",
              "      <th>259587</th>\n",
              "      <td>7d90be8dfdbde170f036ce8a4b915440137cb11c</td>\n",
              "      <td>SOVHIIY12A58A7A606</td>\n",
              "      <td>1</td>\n",
              "      <td>The Bar-Kays</td>\n",
              "      <td>Soul Finger</td>\n",
              "    </tr>\n",
              "    <tr>\n",
              "      <th>259577</th>\n",
              "      <td>7d90be8dfdbde170f036ce8a4b915440137cb11c</td>\n",
              "      <td>SOOVOSX12A81C22771</td>\n",
              "      <td>1</td>\n",
              "      <td>The Beginning Of The End</td>\n",
              "      <td>Funky Nassau_ Part 1 (LP Version)</td>\n",
              "    </tr>\n",
              "    <tr>\n",
              "      <th>259595</th>\n",
              "      <td>7d90be8dfdbde170f036ce8a4b915440137cb11c</td>\n",
              "      <td>SOBATYS12A58A76C6E</td>\n",
              "      <td>5</td>\n",
              "      <td>The Kingston Trio</td>\n",
              "      <td>Greenback Dollar</td>\n",
              "    </tr>\n",
              "    <tr>\n",
              "      <th>259627</th>\n",
              "      <td>7d90be8dfdbde170f036ce8a4b915440137cb11c</td>\n",
              "      <td>SOHTWGE12AB0188968</td>\n",
              "      <td>5</td>\n",
              "      <td>Triple Darkness</td>\n",
              "      <td>Represent</td>\n",
              "    </tr>\n",
              "    <tr>\n",
              "      <th>259616</th>\n",
              "      <td>7d90be8dfdbde170f036ce8a4b915440137cb11c</td>\n",
              "      <td>SOZQOLR12A8C136B84</td>\n",
              "      <td>2</td>\n",
              "      <td>Yeasayer</td>\n",
              "      <td>Sunrise</td>\n",
              "    </tr>\n",
              "    <tr>\n",
              "      <th>259584</th>\n",
              "      <td>7d90be8dfdbde170f036ce8a4b915440137cb11c</td>\n",
              "      <td>SOYSSSK12A8C13BC34</td>\n",
              "      <td>2</td>\n",
              "      <td>Yeasayer</td>\n",
              "      <td>Wait For The Wintertime</td>\n",
              "    </tr>\n",
              "    <tr>\n",
              "      <th>259614</th>\n",
              "      <td>7d90be8dfdbde170f036ce8a4b915440137cb11c</td>\n",
              "      <td>SOXGIHJ12A8C13B367</td>\n",
              "      <td>4</td>\n",
              "      <td>Yeasayer</td>\n",
              "      <td>Final Path</td>\n",
              "    </tr>\n",
              "    <tr>\n",
              "      <th>259603</th>\n",
              "      <td>7d90be8dfdbde170f036ce8a4b915440137cb11c</td>\n",
              "      <td>SOATPFD12A8C136B88</td>\n",
              "      <td>2</td>\n",
              "      <td>Yeasayer</td>\n",
              "      <td>Wait For The Summer</td>\n",
              "    </tr>\n",
              "    <tr>\n",
              "      <th>259597</th>\n",
              "      <td>7d90be8dfdbde170f036ce8a4b915440137cb11c</td>\n",
              "      <td>SONZTEN12A8C136B8C</td>\n",
              "      <td>1</td>\n",
              "      <td>Yeasayer</td>\n",
              "      <td>2080</td>\n",
              "    </tr>\n",
              "    <tr>\n",
              "      <th>259615</th>\n",
              "      <td>7d90be8dfdbde170f036ce8a4b915440137cb11c</td>\n",
              "      <td>SOZJJCY12A8C13C917</td>\n",
              "      <td>1</td>\n",
              "      <td>Yo La Tengo</td>\n",
              "      <td>Out The Window</td>\n",
              "    </tr>\n",
              "  </tbody>\n",
              "</table>\n",
              "</div>"
            ],
            "text/plain": [
              "                                         user_id  ...                                        Title\n",
              "259608  7d90be8dfdbde170f036ce8a4b915440137cb11c  ...               Killed Myself When I Was Young\n",
              "259602  7d90be8dfdbde170f036ce8a4b915440137cb11c  ...                          No Balanço Da Canoa\n",
              "259582  7d90be8dfdbde170f036ce8a4b915440137cb11c  ...                           Overjoyed / Ancora\n",
              "259621  7d90be8dfdbde170f036ce8a4b915440137cb11c  ...                    Listen To Me (LP Version)\n",
              "259593  7d90be8dfdbde170f036ce8a4b915440137cb11c  ...                                 Special Brew\n",
              "259581  7d90be8dfdbde170f036ce8a4b915440137cb11c  ...                                   Blue Skies\n",
              "259591  7d90be8dfdbde170f036ce8a4b915440137cb11c  ...              Promises Like Pie-Crust (Album)\n",
              "259598  7d90be8dfdbde170f036ce8a4b915440137cb11c  ...                                         Coda\n",
              "259579  7d90be8dfdbde170f036ce8a4b915440137cb11c  ...                                Call Me Crazy\n",
              "259620  7d90be8dfdbde170f036ce8a4b915440137cb11c  ...  Give It Up (Kissy Sell Out's 4x4 Cello Mix)\n",
              "259609  7d90be8dfdbde170f036ce8a4b915440137cb11c  ...                           A Teenager In Love\n",
              "259583  7d90be8dfdbde170f036ce8a4b915440137cb11c  ...              Let's Do It_ Let's Fall In Love\n",
              "259612  7d90be8dfdbde170f036ce8a4b915440137cb11c  ...                           My Beloved Monster\n",
              "259605  7d90be8dfdbde170f036ce8a4b915440137cb11c  ...                          Don't You Forget It\n",
              "259601  7d90be8dfdbde170f036ce8a4b915440137cb11c  ...                          Gan Haedden (Edden)\n",
              "259618  7d90be8dfdbde170f036ce8a4b915440137cb11c  ...                               Getting Closer\n",
              "259607  7d90be8dfdbde170f036ce8a4b915440137cb11c  ...                  Artifacts of the black rain\n",
              "259594  7d90be8dfdbde170f036ce8a4b915440137cb11c  ...                                          Out\n",
              "259624  7d90be8dfdbde170f036ce8a4b915440137cb11c  ...                                   Who's Real\n",
              "259622  7d90be8dfdbde170f036ce8a4b915440137cb11c  ...                          Ab Jetzt Nicht Mehr\n",
              "259600  7d90be8dfdbde170f036ce8a4b915440137cb11c  ...                  Escenas De La Vida(En Vivo)\n",
              "259596  7d90be8dfdbde170f036ce8a4b915440137cb11c  ...              Ten Years Gone  (Album Version)\n",
              "259592  7d90be8dfdbde170f036ce8a4b915440137cb11c  ...                                   I Want You\n",
              "259586  7d90be8dfdbde170f036ce8a4b915440137cb11c  ...                           The Unforgiven III\n",
              "259611  7d90be8dfdbde170f036ce8a4b915440137cb11c  ...                             What's Happenin'\n",
              "259617  7d90be8dfdbde170f036ce8a4b915440137cb11c  ...                                Another Place\n",
              "259599  7d90be8dfdbde170f036ce8a4b915440137cb11c  ...                            In The Summertime\n",
              "259578  7d90be8dfdbde170f036ce8a4b915440137cb11c  ...                                    Matricide\n",
              "259576  7d90be8dfdbde170f036ce8a4b915440137cb11c  ...                                       Vessel\n",
              "259625  7d90be8dfdbde170f036ce8a4b915440137cb11c  ...                            Love To A Monster\n",
              "259626  7d90be8dfdbde170f036ce8a4b915440137cb11c  ...                            Xehasmeni Melodia\n",
              "259588  7d90be8dfdbde170f036ce8a4b915440137cb11c  ...              La Maison De Mes Parents (Edit)\n",
              "259589  7d90be8dfdbde170f036ce8a4b915440137cb11c  ...                       Rewind [Album Version]\n",
              "259585  7d90be8dfdbde170f036ce8a4b915440137cb11c  ...             Misery Business (Single Version)\n",
              "259575  7d90be8dfdbde170f036ce8a4b915440137cb11c  ...                       Natural Anthem (Album)\n",
              "259610  7d90be8dfdbde170f036ce8a4b915440137cb11c  ...                                     Stripped\n",
              "259580  7d90be8dfdbde170f036ce8a4b915440137cb11c  ...                                        Intro\n",
              "259606  7d90be8dfdbde170f036ce8a4b915440137cb11c  ...                                      Push It\n",
              "259590  7d90be8dfdbde170f036ce8a4b915440137cb11c  ...                 The Court Of King Caractacus\n",
              "259613  7d90be8dfdbde170f036ce8a4b915440137cb11c  ...                    How It Was Supposed To Be\n",
              "259604  7d90be8dfdbde170f036ce8a4b915440137cb11c  ...                                         Nah!\n",
              "259623  7d90be8dfdbde170f036ce8a4b915440137cb11c  ...                           Red Sea_ Black Sea\n",
              "259619  7d90be8dfdbde170f036ce8a4b915440137cb11c  ...                            Hackett To Pieces\n",
              "259587  7d90be8dfdbde170f036ce8a4b915440137cb11c  ...                                  Soul Finger\n",
              "259577  7d90be8dfdbde170f036ce8a4b915440137cb11c  ...            Funky Nassau_ Part 1 (LP Version)\n",
              "259595  7d90be8dfdbde170f036ce8a4b915440137cb11c  ...                             Greenback Dollar\n",
              "259627  7d90be8dfdbde170f036ce8a4b915440137cb11c  ...                                    Represent\n",
              "259616  7d90be8dfdbde170f036ce8a4b915440137cb11c  ...                                      Sunrise\n",
              "259584  7d90be8dfdbde170f036ce8a4b915440137cb11c  ...                      Wait For The Wintertime\n",
              "259614  7d90be8dfdbde170f036ce8a4b915440137cb11c  ...                                   Final Path\n",
              "259603  7d90be8dfdbde170f036ce8a4b915440137cb11c  ...                          Wait For The Summer\n",
              "259597  7d90be8dfdbde170f036ce8a4b915440137cb11c  ...                                         2080\n",
              "259615  7d90be8dfdbde170f036ce8a4b915440137cb11c  ...                               Out The Window\n",
              "\n",
              "[53 rows x 5 columns]"
            ]
          },
          "metadata": {
            "tags": []
          },
          "execution_count": 48
        }
      ]
    },
    {
      "cell_type": "markdown",
      "metadata": {
        "id": "NhPZHIv55uxg"
      },
      "source": [
        "# Creating Popularity based recommender system"
      ],
      "id": "NhPZHIv55uxg"
    },
    {
      "cell_type": "code",
      "metadata": {
        "id": "KlJ0iCCL59uO"
      },
      "source": [
        "#Class for Popularity based Recommender System model\n",
        "class popularity_recommender_py():\n",
        "    def __init__(self):\n",
        "        self.train_data = None\n",
        "        self.user_id = None\n",
        "        self.item_id = None\n",
        "        self.popularity_recommendations = None\n",
        "        \n",
        "    #Create the popularity based recommender system model\n",
        "    def create(self, train_data, user_id, item_id):\n",
        "        self.train_data = train_data\n",
        "        self.user_id = user_id\n",
        "        self.item_id = item_id\n",
        " \n",
        "        #Get a count of user_ids for each unique song as recommendation score\n",
        "        train_data_grouped = train_data.groupby([self.item_id]).agg({self.user_id: 'count'}).reset_index()\n",
        "        train_data_grouped.rename(columns = {'user_id': 'score'},inplace=True)\n",
        "        print(train_data_grouped)\n",
        "    \n",
        "        #Sort the songs based upon recommendation score\n",
        "        train_data_sort = train_data_grouped.sort_values(['score', self.item_id], ascending = [0,1])\n",
        "    \n",
        "        #Generate a recommendation rank based upon score\n",
        "        train_data_sort['Rank'] = train_data_sort['score'].rank(ascending=0, method='first')\n",
        "        \n",
        "        #Get the top 10 recommendations\n",
        "        self.popularity_recommendations = train_data_sort.head(10)\n",
        "        print(self.popularity_recommendations)\n",
        "    #Use the popularity based recommender system model to\n",
        "    #make recommendations\n",
        "    def recommend(self, user_id):    \n",
        "        user_recommendations = self.popularity_recommendations\n",
        "        \n",
        "        #Add user_id column for which the recommendations are being generated\n",
        "        user_recommendations['user_id'] = user_id\n",
        "    \n",
        "        #Bring user_id column to the front\n",
        "        cols = user_recommendations.columns.tolist()\n",
        "        cols = cols[-1:] + cols[:-1]\n",
        "        user_recommendations = user_recommendations[cols]\n",
        "        \n",
        "        return user_recommendations"
      ],
      "id": "KlJ0iCCL59uO",
      "execution_count": null,
      "outputs": []
    },
    {
      "cell_type": "code",
      "metadata": {
        "id": "LyBCVutJ6Kuv"
      },
      "source": [
        "pr = popularity_recommender_py()\n",
        "song_df = song_df.head(10000)"
      ],
      "id": "LyBCVutJ6Kuv",
      "execution_count": null,
      "outputs": []
    },
    {
      "cell_type": "code",
      "metadata": {
        "colab": {
          "base_uri": "https://localhost:8080/"
        },
        "id": "61zEEfbuzpzl",
        "outputId": "6a4b97c3-27aa-44cd-dd53-b70783953063"
      },
      "source": [
        "song_df['song'] = song_df['Title']+ '-' +song_df['Artist Name']\n",
        "song_df.drop([\"Artist Name\",\"Title\"],axis=1,inplace=True)\n",
        "from sklearn.model_selection import train_test_split\n",
        "train_data , test_data = train_test_split(song_df,test_size=0.2,random_state=0)\n",
        "print(train_data.head(10))"
      ],
      "id": "61zEEfbuzpzl",
      "execution_count": null,
      "outputs": [
        {
          "output_type": "stream",
          "text": [
            "                                       user_id  ...                                               song\n",
            "7389  d3c75a5a579f29a3a853b3a4ba76d3a2e5243655  ...  Aghia Sophia (2008 Digital Remaster)-CCCP - Fe...\n",
            "9275  3071be7411e636fcda6c99277a5b51c45a7c4866  ...                            Scorpion-The Budos Band\n",
            "2995  1fa6a4add6eacc3ce1aec44fc37037db2b09bf82  ...                             Jesus Walks-Kanye West\n",
            "5316  c8db3788ca8f60d92abf827ad59f424f05897cfc  ...                           Orange Sky-Alexi Murdoch\n",
            "356   6530c4fc41b9110de5d39fe0355fa103c66385f0  ...                               In Da Gutter-Vicious\n",
            "49    841b2394ae3a9febbd6b06497b4a8ee8eb24b7f8  ...                  Sound The Alarm-A Day To Remember\n",
            "7931  1872ae2c007395eefa382423672afb0c7b227920  ...                           Djel & Pone-Fonky Family\n",
            "1523  97c875a4bdd4142b8b025e95974ed3f390a36f53  ...           Rumours-Carlton Livingston_ Shabba Ranks\n",
            "7552  f70a3e53b17d9c293afc8b8e3e72bd19abb9ed0b  ...                                    Newjack-Justice\n",
            "496   42a9daa28f605e4f269711946cdbe0498a172706  ...  Pursuit Of Happiness (nightmare)-Kid Cudi / MG...\n",
            "\n",
            "[10 rows x 4 columns]\n"
          ],
          "name": "stdout"
        }
      ]
    },
    {
      "cell_type": "markdown",
      "metadata": {
        "id": "g9Uym_mi6bkE"
      },
      "source": [
        "# Creating model for popularity based recommender system"
      ],
      "id": "g9Uym_mi6bkE"
    },
    {
      "cell_type": "code",
      "metadata": {
        "colab": {
          "base_uri": "https://localhost:8080/"
        },
        "id": "wnatoSEM6gnU",
        "outputId": "0e909024-a03b-435e-f9f8-af174c8d85d5"
      },
      "source": [
        "pr.create(train_data,'user_id','song')"
      ],
      "id": "wnatoSEM6gnU",
      "execution_count": null,
      "outputs": [
        {
          "output_type": "stream",
          "text": [
            "                                             song  score\n",
            "0                          #40-DAVE MATTHEWS BAND      1\n",
            "1                             $in$-Male Or Female      1\n",
            "2                               & Down-Boys Noize      1\n",
            "3     &And The World Will Cease To Be-Amon Amarth      1\n",
            "4                      'A Cimma-Fabrizio De Andrè      1\n",
            "...                                           ...    ...\n",
            "6102               Ángel De Amor-Sergio Contreras      1\n",
            "6103         Árboles de la barranca-Carlos Y Jose      1\n",
            "6104                     Ça Marche-Christophe Maé      1\n",
            "6105                       Örökké Tart-Tankcsapda      1\n",
            "6106            ça Me Fait Du Bien-Emmanuel Moire      1\n",
            "\n",
            "[6107 rows x 2 columns]\n",
            "                                                   song  score  Rank\n",
            "6049                       You're The One-Dwight Yoakam     34   1.0\n",
            "5552                                         Undo-Björk     31   2.0\n",
            "4343                             Sehr kosmisch-Harmonia     30   3.0\n",
            "1259  Dog Days Are Over (Radio Edit)-Florence + The ...     24   4.0\n",
            "4118                              Revelry-Kings Of Leon     23   5.0\n",
            "1662                       Fireflies-Charttraxx Karaoke     19   6.0\n",
            "1359                  Drop The World-Lil Wayne / Eminem     18   7.0\n",
            "2206  Horn Concerto No. 4 in E flat K495: II. Romanc...     17   8.0\n",
            "4108                         Représente-Alliance Ethnik     17   9.0\n",
            "4335                                Secrets-OneRepublic     16  10.0\n"
          ],
          "name": "stdout"
        }
      ]
    },
    {
      "cell_type": "markdown",
      "metadata": {
        "id": "UTz3dR4b6ry_"
      },
      "source": [
        "# Recommending songs for individual users"
      ],
      "id": "UTz3dR4b6ry_"
    },
    {
      "cell_type": "code",
      "metadata": {
        "colab": {
          "base_uri": "https://localhost:8080/",
          "height": 357
        },
        "id": "uB7CkDdF6jA9",
        "outputId": "8f7e60f9-dbfd-4d93-9a10-cc7791ec7042"
      },
      "source": [
        "users = song_df['user_id'].unique()\n",
        "user_id = users[21]\n",
        "pr.recommend(user_id)"
      ],
      "id": "uB7CkDdF6jA9",
      "execution_count": null,
      "outputs": [
        {
          "output_type": "execute_result",
          "data": {
            "text/html": [
              "<div>\n",
              "<style scoped>\n",
              "    .dataframe tbody tr th:only-of-type {\n",
              "        vertical-align: middle;\n",
              "    }\n",
              "\n",
              "    .dataframe tbody tr th {\n",
              "        vertical-align: top;\n",
              "    }\n",
              "\n",
              "    .dataframe thead th {\n",
              "        text-align: right;\n",
              "    }\n",
              "</style>\n",
              "<table border=\"1\" class=\"dataframe\">\n",
              "  <thead>\n",
              "    <tr style=\"text-align: right;\">\n",
              "      <th></th>\n",
              "      <th>user_id</th>\n",
              "      <th>song</th>\n",
              "      <th>score</th>\n",
              "      <th>Rank</th>\n",
              "    </tr>\n",
              "  </thead>\n",
              "  <tbody>\n",
              "    <tr>\n",
              "      <th>6049</th>\n",
              "      <td>a42412a54fed82e8341d2edaa1f9001362acf898</td>\n",
              "      <td>You're The One-Dwight Yoakam</td>\n",
              "      <td>34</td>\n",
              "      <td>1.0</td>\n",
              "    </tr>\n",
              "    <tr>\n",
              "      <th>5552</th>\n",
              "      <td>a42412a54fed82e8341d2edaa1f9001362acf898</td>\n",
              "      <td>Undo-Björk</td>\n",
              "      <td>31</td>\n",
              "      <td>2.0</td>\n",
              "    </tr>\n",
              "    <tr>\n",
              "      <th>4343</th>\n",
              "      <td>a42412a54fed82e8341d2edaa1f9001362acf898</td>\n",
              "      <td>Sehr kosmisch-Harmonia</td>\n",
              "      <td>30</td>\n",
              "      <td>3.0</td>\n",
              "    </tr>\n",
              "    <tr>\n",
              "      <th>1259</th>\n",
              "      <td>a42412a54fed82e8341d2edaa1f9001362acf898</td>\n",
              "      <td>Dog Days Are Over (Radio Edit)-Florence + The ...</td>\n",
              "      <td>24</td>\n",
              "      <td>4.0</td>\n",
              "    </tr>\n",
              "    <tr>\n",
              "      <th>4118</th>\n",
              "      <td>a42412a54fed82e8341d2edaa1f9001362acf898</td>\n",
              "      <td>Revelry-Kings Of Leon</td>\n",
              "      <td>23</td>\n",
              "      <td>5.0</td>\n",
              "    </tr>\n",
              "    <tr>\n",
              "      <th>1662</th>\n",
              "      <td>a42412a54fed82e8341d2edaa1f9001362acf898</td>\n",
              "      <td>Fireflies-Charttraxx Karaoke</td>\n",
              "      <td>19</td>\n",
              "      <td>6.0</td>\n",
              "    </tr>\n",
              "    <tr>\n",
              "      <th>1359</th>\n",
              "      <td>a42412a54fed82e8341d2edaa1f9001362acf898</td>\n",
              "      <td>Drop The World-Lil Wayne / Eminem</td>\n",
              "      <td>18</td>\n",
              "      <td>7.0</td>\n",
              "    </tr>\n",
              "    <tr>\n",
              "      <th>2206</th>\n",
              "      <td>a42412a54fed82e8341d2edaa1f9001362acf898</td>\n",
              "      <td>Horn Concerto No. 4 in E flat K495: II. Romanc...</td>\n",
              "      <td>17</td>\n",
              "      <td>8.0</td>\n",
              "    </tr>\n",
              "    <tr>\n",
              "      <th>4108</th>\n",
              "      <td>a42412a54fed82e8341d2edaa1f9001362acf898</td>\n",
              "      <td>Représente-Alliance Ethnik</td>\n",
              "      <td>17</td>\n",
              "      <td>9.0</td>\n",
              "    </tr>\n",
              "    <tr>\n",
              "      <th>4335</th>\n",
              "      <td>a42412a54fed82e8341d2edaa1f9001362acf898</td>\n",
              "      <td>Secrets-OneRepublic</td>\n",
              "      <td>16</td>\n",
              "      <td>10.0</td>\n",
              "    </tr>\n",
              "  </tbody>\n",
              "</table>\n",
              "</div>"
            ],
            "text/plain": [
              "                                       user_id  ...  Rank\n",
              "6049  a42412a54fed82e8341d2edaa1f9001362acf898  ...   1.0\n",
              "5552  a42412a54fed82e8341d2edaa1f9001362acf898  ...   2.0\n",
              "4343  a42412a54fed82e8341d2edaa1f9001362acf898  ...   3.0\n",
              "1259  a42412a54fed82e8341d2edaa1f9001362acf898  ...   4.0\n",
              "4118  a42412a54fed82e8341d2edaa1f9001362acf898  ...   5.0\n",
              "1662  a42412a54fed82e8341d2edaa1f9001362acf898  ...   6.0\n",
              "1359  a42412a54fed82e8341d2edaa1f9001362acf898  ...   7.0\n",
              "2206  a42412a54fed82e8341d2edaa1f9001362acf898  ...   8.0\n",
              "4108  a42412a54fed82e8341d2edaa1f9001362acf898  ...   9.0\n",
              "4335  a42412a54fed82e8341d2edaa1f9001362acf898  ...  10.0\n",
              "\n",
              "[10 rows x 4 columns]"
            ]
          },
          "metadata": {
            "tags": []
          },
          "execution_count": 53
        }
      ]
    },
    {
      "cell_type": "code",
      "metadata": {
        "colab": {
          "base_uri": "https://localhost:8080/",
          "height": 357
        },
        "id": "nB_m1GvO6zcE",
        "outputId": "fd6b1713-38b6-4d10-b9a6-38b2bc145f85"
      },
      "source": [
        "user_id = users[190]\n",
        "pr.recommend(user_id)"
      ],
      "id": "nB_m1GvO6zcE",
      "execution_count": null,
      "outputs": [
        {
          "output_type": "execute_result",
          "data": {
            "text/html": [
              "<div>\n",
              "<style scoped>\n",
              "    .dataframe tbody tr th:only-of-type {\n",
              "        vertical-align: middle;\n",
              "    }\n",
              "\n",
              "    .dataframe tbody tr th {\n",
              "        vertical-align: top;\n",
              "    }\n",
              "\n",
              "    .dataframe thead th {\n",
              "        text-align: right;\n",
              "    }\n",
              "</style>\n",
              "<table border=\"1\" class=\"dataframe\">\n",
              "  <thead>\n",
              "    <tr style=\"text-align: right;\">\n",
              "      <th></th>\n",
              "      <th>user_id</th>\n",
              "      <th>song</th>\n",
              "      <th>score</th>\n",
              "      <th>Rank</th>\n",
              "    </tr>\n",
              "  </thead>\n",
              "  <tbody>\n",
              "    <tr>\n",
              "      <th>6049</th>\n",
              "      <td>3c98fddc6c7ce03b6848c5b8652579eae6b87bef</td>\n",
              "      <td>You're The One-Dwight Yoakam</td>\n",
              "      <td>34</td>\n",
              "      <td>1.0</td>\n",
              "    </tr>\n",
              "    <tr>\n",
              "      <th>5552</th>\n",
              "      <td>3c98fddc6c7ce03b6848c5b8652579eae6b87bef</td>\n",
              "      <td>Undo-Björk</td>\n",
              "      <td>31</td>\n",
              "      <td>2.0</td>\n",
              "    </tr>\n",
              "    <tr>\n",
              "      <th>4343</th>\n",
              "      <td>3c98fddc6c7ce03b6848c5b8652579eae6b87bef</td>\n",
              "      <td>Sehr kosmisch-Harmonia</td>\n",
              "      <td>30</td>\n",
              "      <td>3.0</td>\n",
              "    </tr>\n",
              "    <tr>\n",
              "      <th>1259</th>\n",
              "      <td>3c98fddc6c7ce03b6848c5b8652579eae6b87bef</td>\n",
              "      <td>Dog Days Are Over (Radio Edit)-Florence + The ...</td>\n",
              "      <td>24</td>\n",
              "      <td>4.0</td>\n",
              "    </tr>\n",
              "    <tr>\n",
              "      <th>4118</th>\n",
              "      <td>3c98fddc6c7ce03b6848c5b8652579eae6b87bef</td>\n",
              "      <td>Revelry-Kings Of Leon</td>\n",
              "      <td>23</td>\n",
              "      <td>5.0</td>\n",
              "    </tr>\n",
              "    <tr>\n",
              "      <th>1662</th>\n",
              "      <td>3c98fddc6c7ce03b6848c5b8652579eae6b87bef</td>\n",
              "      <td>Fireflies-Charttraxx Karaoke</td>\n",
              "      <td>19</td>\n",
              "      <td>6.0</td>\n",
              "    </tr>\n",
              "    <tr>\n",
              "      <th>1359</th>\n",
              "      <td>3c98fddc6c7ce03b6848c5b8652579eae6b87bef</td>\n",
              "      <td>Drop The World-Lil Wayne / Eminem</td>\n",
              "      <td>18</td>\n",
              "      <td>7.0</td>\n",
              "    </tr>\n",
              "    <tr>\n",
              "      <th>2206</th>\n",
              "      <td>3c98fddc6c7ce03b6848c5b8652579eae6b87bef</td>\n",
              "      <td>Horn Concerto No. 4 in E flat K495: II. Romanc...</td>\n",
              "      <td>17</td>\n",
              "      <td>8.0</td>\n",
              "    </tr>\n",
              "    <tr>\n",
              "      <th>4108</th>\n",
              "      <td>3c98fddc6c7ce03b6848c5b8652579eae6b87bef</td>\n",
              "      <td>Représente-Alliance Ethnik</td>\n",
              "      <td>17</td>\n",
              "      <td>9.0</td>\n",
              "    </tr>\n",
              "    <tr>\n",
              "      <th>4335</th>\n",
              "      <td>3c98fddc6c7ce03b6848c5b8652579eae6b87bef</td>\n",
              "      <td>Secrets-OneRepublic</td>\n",
              "      <td>16</td>\n",
              "      <td>10.0</td>\n",
              "    </tr>\n",
              "  </tbody>\n",
              "</table>\n",
              "</div>"
            ],
            "text/plain": [
              "                                       user_id  ...  Rank\n",
              "6049  3c98fddc6c7ce03b6848c5b8652579eae6b87bef  ...   1.0\n",
              "5552  3c98fddc6c7ce03b6848c5b8652579eae6b87bef  ...   2.0\n",
              "4343  3c98fddc6c7ce03b6848c5b8652579eae6b87bef  ...   3.0\n",
              "1259  3c98fddc6c7ce03b6848c5b8652579eae6b87bef  ...   4.0\n",
              "4118  3c98fddc6c7ce03b6848c5b8652579eae6b87bef  ...   5.0\n",
              "1662  3c98fddc6c7ce03b6848c5b8652579eae6b87bef  ...   6.0\n",
              "1359  3c98fddc6c7ce03b6848c5b8652579eae6b87bef  ...   7.0\n",
              "2206  3c98fddc6c7ce03b6848c5b8652579eae6b87bef  ...   8.0\n",
              "4108  3c98fddc6c7ce03b6848c5b8652579eae6b87bef  ...   9.0\n",
              "4335  3c98fddc6c7ce03b6848c5b8652579eae6b87bef  ...  10.0\n",
              "\n",
              "[10 rows x 4 columns]"
            ]
          },
          "metadata": {
            "tags": []
          },
          "execution_count": 54
        }
      ]
    },
    {
      "cell_type": "code",
      "metadata": {
        "colab": {
          "base_uri": "https://localhost:8080/",
          "height": 357
        },
        "id": "ZDcqHIT362so",
        "outputId": "17548caf-5a6c-41e8-ffc0-173ea9737089"
      },
      "source": [
        "user_id = users[651]\n",
        "pr.recommend(user_id)"
      ],
      "id": "ZDcqHIT362so",
      "execution_count": null,
      "outputs": [
        {
          "output_type": "execute_result",
          "data": {
            "text/html": [
              "<div>\n",
              "<style scoped>\n",
              "    .dataframe tbody tr th:only-of-type {\n",
              "        vertical-align: middle;\n",
              "    }\n",
              "\n",
              "    .dataframe tbody tr th {\n",
              "        vertical-align: top;\n",
              "    }\n",
              "\n",
              "    .dataframe thead th {\n",
              "        text-align: right;\n",
              "    }\n",
              "</style>\n",
              "<table border=\"1\" class=\"dataframe\">\n",
              "  <thead>\n",
              "    <tr style=\"text-align: right;\">\n",
              "      <th></th>\n",
              "      <th>user_id</th>\n",
              "      <th>song</th>\n",
              "      <th>score</th>\n",
              "      <th>Rank</th>\n",
              "    </tr>\n",
              "  </thead>\n",
              "  <tbody>\n",
              "    <tr>\n",
              "      <th>6049</th>\n",
              "      <td>275a0e7eeca82083bcf94a238329db548b31897b</td>\n",
              "      <td>You're The One-Dwight Yoakam</td>\n",
              "      <td>34</td>\n",
              "      <td>1.0</td>\n",
              "    </tr>\n",
              "    <tr>\n",
              "      <th>5552</th>\n",
              "      <td>275a0e7eeca82083bcf94a238329db548b31897b</td>\n",
              "      <td>Undo-Björk</td>\n",
              "      <td>31</td>\n",
              "      <td>2.0</td>\n",
              "    </tr>\n",
              "    <tr>\n",
              "      <th>4343</th>\n",
              "      <td>275a0e7eeca82083bcf94a238329db548b31897b</td>\n",
              "      <td>Sehr kosmisch-Harmonia</td>\n",
              "      <td>30</td>\n",
              "      <td>3.0</td>\n",
              "    </tr>\n",
              "    <tr>\n",
              "      <th>1259</th>\n",
              "      <td>275a0e7eeca82083bcf94a238329db548b31897b</td>\n",
              "      <td>Dog Days Are Over (Radio Edit)-Florence + The ...</td>\n",
              "      <td>24</td>\n",
              "      <td>4.0</td>\n",
              "    </tr>\n",
              "    <tr>\n",
              "      <th>4118</th>\n",
              "      <td>275a0e7eeca82083bcf94a238329db548b31897b</td>\n",
              "      <td>Revelry-Kings Of Leon</td>\n",
              "      <td>23</td>\n",
              "      <td>5.0</td>\n",
              "    </tr>\n",
              "    <tr>\n",
              "      <th>1662</th>\n",
              "      <td>275a0e7eeca82083bcf94a238329db548b31897b</td>\n",
              "      <td>Fireflies-Charttraxx Karaoke</td>\n",
              "      <td>19</td>\n",
              "      <td>6.0</td>\n",
              "    </tr>\n",
              "    <tr>\n",
              "      <th>1359</th>\n",
              "      <td>275a0e7eeca82083bcf94a238329db548b31897b</td>\n",
              "      <td>Drop The World-Lil Wayne / Eminem</td>\n",
              "      <td>18</td>\n",
              "      <td>7.0</td>\n",
              "    </tr>\n",
              "    <tr>\n",
              "      <th>2206</th>\n",
              "      <td>275a0e7eeca82083bcf94a238329db548b31897b</td>\n",
              "      <td>Horn Concerto No. 4 in E flat K495: II. Romanc...</td>\n",
              "      <td>17</td>\n",
              "      <td>8.0</td>\n",
              "    </tr>\n",
              "    <tr>\n",
              "      <th>4108</th>\n",
              "      <td>275a0e7eeca82083bcf94a238329db548b31897b</td>\n",
              "      <td>Représente-Alliance Ethnik</td>\n",
              "      <td>17</td>\n",
              "      <td>9.0</td>\n",
              "    </tr>\n",
              "    <tr>\n",
              "      <th>4335</th>\n",
              "      <td>275a0e7eeca82083bcf94a238329db548b31897b</td>\n",
              "      <td>Secrets-OneRepublic</td>\n",
              "      <td>16</td>\n",
              "      <td>10.0</td>\n",
              "    </tr>\n",
              "  </tbody>\n",
              "</table>\n",
              "</div>"
            ],
            "text/plain": [
              "                                       user_id  ...  Rank\n",
              "6049  275a0e7eeca82083bcf94a238329db548b31897b  ...   1.0\n",
              "5552  275a0e7eeca82083bcf94a238329db548b31897b  ...   2.0\n",
              "4343  275a0e7eeca82083bcf94a238329db548b31897b  ...   3.0\n",
              "1259  275a0e7eeca82083bcf94a238329db548b31897b  ...   4.0\n",
              "4118  275a0e7eeca82083bcf94a238329db548b31897b  ...   5.0\n",
              "1662  275a0e7eeca82083bcf94a238329db548b31897b  ...   6.0\n",
              "1359  275a0e7eeca82083bcf94a238329db548b31897b  ...   7.0\n",
              "2206  275a0e7eeca82083bcf94a238329db548b31897b  ...   8.0\n",
              "4108  275a0e7eeca82083bcf94a238329db548b31897b  ...   9.0\n",
              "4335  275a0e7eeca82083bcf94a238329db548b31897b  ...  10.0\n",
              "\n",
              "[10 rows x 4 columns]"
            ]
          },
          "metadata": {
            "tags": []
          },
          "execution_count": 55
        }
      ]
    },
    {
      "cell_type": "markdown",
      "metadata": {
        "id": "ls2VZh6_3msp"
      },
      "source": [
        "# Content based recommender system"
      ],
      "id": "ls2VZh6_3msp"
    },
    {
      "cell_type": "code",
      "metadata": {
        "id": "lxPnCzAM65QL"
      },
      "source": [
        "#Class for Item similarity based Recommender System model\n",
        "class item_similarity_recommender_py():\n",
        "    def __init__(self):\n",
        "        self.train_data = None\n",
        "        self.user_id = None\n",
        "        self.item_id = None\n",
        "        self.cooccurence_matrix = None\n",
        "        self.songs_dict = None\n",
        "        self.rev_songs_dict = None\n",
        "        self.item_similarity_recommendations = None\n",
        "        \n",
        "    #Get unique items (songs) corresponding to a given user\n",
        "    def get_user_items(self, user):\n",
        "        user_data = self.train_data[self.train_data[self.user_id] == user]\n",
        "        user_items = list(user_data[self.item_id].unique())\n",
        "        \n",
        "        return user_items\n",
        "        \n",
        "    #Get unique users for a given item (song)\n",
        "    def get_item_users(self, item):\n",
        "        item_data = self.train_data[self.train_data[self.item_id] == item]\n",
        "        item_users = set(item_data[self.user_id].unique())\n",
        "            \n",
        "        return item_users\n",
        "        \n",
        "    #Get unique items (songs) in the training data\n",
        "    def get_all_items_train_data(self):\n",
        "        all_items = list(self.train_data[self.item_id].unique())\n",
        "            \n",
        "        return all_items\n",
        "        \n",
        "    #Construct cooccurence matrix\n",
        "    def construct_cooccurence_matrix(self, user_songs, all_songs):\n",
        "            \n",
        "        ####################################\n",
        "        #Get users for all songs in user_songs.\n",
        "        ####################################\n",
        "        user_songs_users = []        \n",
        "        for i in range(0, len(user_songs)):\n",
        "            user_songs_users.append(self.get_item_users(user_songs[i]))\n",
        "            \n",
        "        ###############################################\n",
        "        #Initialize the item cooccurence matrix of size \n",
        "        #len(user_songs) X len(songs)\n",
        "        ###############################################\n",
        "        cooccurence_matrix = np.matrix(np.zeros(shape=(len(user_songs), len(all_songs))), float)\n",
        "           \n",
        "        #############################################################\n",
        "        #Calculate similarity between user songs and all unique songs\n",
        "        #in the training data\n",
        "        #############################################################\n",
        "        for i in range(0,len(all_songs)):\n",
        "            #Calculate unique listeners (users) of song (item) i\n",
        "            songs_i_data = self.train_data[self.train_data[self.item_id] == all_songs[i]]\n",
        "            users_i = set(songs_i_data[self.user_id].unique())\n",
        "            \n",
        "            for j in range(0,len(user_songs)):       \n",
        "                    \n",
        "                #Get unique listeners (users) of song (item) j\n",
        "                users_j = user_songs_users[j]\n",
        "                    \n",
        "                #Calculate intersection of listeners of songs i and j\n",
        "                users_intersection = users_i.intersection(users_j)\n",
        "                \n",
        "                #Calculate cooccurence_matrix[i,j] as Jaccard Index\n",
        "                if len(users_intersection) != 0:\n",
        "                    #Calculate union of listeners of songs i and j\n",
        "                    users_union = users_i.union(users_j)\n",
        "                    \n",
        "                    cooccurence_matrix[j,i] = float(len(users_intersection))/float(len(users_union))\n",
        "                else:\n",
        "                    cooccurence_matrix[j,i] = 0\n",
        "                    \n",
        "        \n",
        "        return cooccurence_matrix\n",
        "\n",
        "    \n",
        "    #Use the cooccurence matrix to make top recommendations\n",
        "    def generate_top_recommendations(self, user, cooccurence_matrix, all_songs, user_songs):\n",
        "        print(\"Non zero values in cooccurence_matrix :%d\" % np.count_nonzero(cooccurence_matrix))\n",
        "        \n",
        "        #Calculate a weighted average of the scores in cooccurence matrix for all user songs.\n",
        "        user_sim_scores = cooccurence_matrix.sum(axis=0)/float(cooccurence_matrix.shape[0])\n",
        "        user_sim_scores = np.array(user_sim_scores)[0].tolist()\n",
        " \n",
        "        #Sort the indices of user_sim_scores based upon their value\n",
        "        #Also maintain the corresponding score\n",
        "        sort_index = sorted(((e,i) for i,e in enumerate(list(user_sim_scores))), reverse=True)\n",
        "    \n",
        "        #Create a dataframe from the following\n",
        "        columns = ['user_id', 'song', 'score', 'rank']\n",
        "        #index = np.arange(1) # array of numbers for the number of samples\n",
        "        df = pd.DataFrame(columns=columns)\n",
        "         \n",
        "        #Fill the dataframe with top 10 item based recommendations\n",
        "        rank = 1 \n",
        "        for i in range(0,len(sort_index)):\n",
        "            if ~np.isnan(sort_index[i][0]) and all_songs[sort_index[i][1]] not in user_songs and rank <= 10:\n",
        "                df.loc[len(df)]=[user,all_songs[sort_index[i][1]],sort_index[i][0],rank]\n",
        "                rank = rank+1\n",
        "        \n",
        "        #Handle the case where there are no recommendations\n",
        "        if df.shape[0] == 0:\n",
        "            print(\"The current user has no songs for training the item similarity based recommendation model.\")\n",
        "            return -1\n",
        "        else:\n",
        "            return df\n",
        " \n",
        "    #Create the item similarity based recommender system model\n",
        "    def create(self, train_data, user_id, item_id):\n",
        "        self.train_data = train_data\n",
        "        self.user_id = user_id\n",
        "        self.item_id = item_id\n",
        "\n",
        "    #Use the item similarity based recommender system model to\n",
        "    #make recommendations\n",
        "    def recommend(self, user):\n",
        "        \n",
        "        ########################################\n",
        "        #A. Get all unique songs for this user\n",
        "        ########################################\n",
        "        user_songs = self.get_user_items(user)    \n",
        "            \n",
        "        print(\"No. of unique songs for the user: %d\" % len(user_songs))\n",
        "        \n",
        "        ######################################################\n",
        "        #B. Get all unique items (songs) in the training data\n",
        "        ######################################################\n",
        "        all_songs = self.get_all_items_train_data()\n",
        "        \n",
        "        print(\"no. of unique songs in the training set: %d\" % len(all_songs))\n",
        "         \n",
        "        ###############################################\n",
        "        #C. Construct item cooccurence matrix of size \n",
        "        #len(user_songs) X len(songs)\n",
        "        ###############################################\n",
        "        cooccurence_matrix = self.construct_cooccurence_matrix(user_songs, all_songs)\n",
        "        \n",
        "        #######################################################\n",
        "        #D. Use the cooccurence matrix to make recommendations\n",
        "        #######################################################\n",
        "        df_recommendations = self.generate_top_recommendations(user, cooccurence_matrix, all_songs, user_songs)\n",
        "                \n",
        "        return df_recommendations\n",
        "    \n",
        "    #Get similar items to given items\n",
        "    def get_similar_items(self, item_list):\n",
        "        \n",
        "        user_songs = item_list\n",
        "        \n",
        "        ######################################################\n",
        "        #B. Get all unique items (songs) in the training data\n",
        "        ######################################################\n",
        "        all_songs = self.get_all_items_train_data()\n",
        "        \n",
        "        print(\"no. of unique songs in the training set: %d\" % len(all_songs))\n",
        "         \n",
        "        ###############################################\n",
        "        #C. Construct item cooccurence matrix of size \n",
        "        #len(user_songs) X len(songs)\n",
        "        ###############################################\n",
        "        cooccurence_matrix = self.construct_cooccurence_matrix(user_songs, all_songs)\n",
        "        \n",
        "        #######################################################\n",
        "        #D. Use the cooccurence matrix to make recommendations\n",
        "        #######################################################\n",
        "        user = \"\"\n",
        "        df_recommendations = self.generate_top_recommendations(user, cooccurence_matrix, all_songs, user_songs)\n",
        "         \n",
        "        return df_recommendations"
      ],
      "id": "lxPnCzAM65QL",
      "execution_count": null,
      "outputs": []
    },
    {
      "cell_type": "code",
      "metadata": {
        "id": "KhkwxESK3yS7"
      },
      "source": [
        "pk = item_similarity_recommender_py()\n",
        "pk.create(train_data,'user_id','song')"
      ],
      "id": "KhkwxESK3yS7",
      "execution_count": null,
      "outputs": []
    },
    {
      "cell_type": "code",
      "metadata": {
        "colab": {
          "base_uri": "https://localhost:8080/"
        },
        "id": "UtVjwPvA4w-b",
        "outputId": "c5869ba2-585f-4642-a680-3e542720df14"
      },
      "source": [
        "user = users[5]\n",
        "user_songs = pk.get_user_items(user)\n",
        "print(\"Songs heared by the user : {a}\".format(a=user))\n",
        "for i in user_songs:\n",
        "    print(i)"
      ],
      "id": "UtVjwPvA4w-b",
      "execution_count": null,
      "outputs": [
        {
          "output_type": "stream",
          "text": [
            "Songs heared by the user : 91b8fac7dc5e03f6cfaf6e2aa7171f14a8354d62\n",
            "Un Simple Histoire-Thievery Corporation\n",
            "Passacaglia-Secret Garden\n",
            "The Richest Man In Babylon-Thievery Corporation\n",
            "Pastorale-Secret Garden\n",
            "Until The Morning-Thievery Corporation\n",
            "Kryptonite-3 Doors Down\n",
            "Illumination-Secret Garden\n",
            "Love Letters-Dario Marianelli\n",
            "In The Waiting Line-Zero 7\n",
            "Big Yellow Taxi-Counting Crows / Vanessa Carlton\n"
          ],
          "name": "stdout"
        }
      ]
    },
    {
      "cell_type": "code",
      "metadata": {
        "colab": {
          "base_uri": "https://localhost:8080/",
          "height": 407
        },
        "id": "HRiX06iM4xUv",
        "outputId": "ae2cc432-34d5-46e4-b592-94c614aaa571"
      },
      "source": [
        "pk.recommend(user)"
      ],
      "id": "HRiX06iM4xUv",
      "execution_count": null,
      "outputs": [
        {
          "output_type": "stream",
          "text": [
            "No. of unique songs for the user: 10\n",
            "no. of unique songs in the training set: 6107\n",
            "Non zero values in cooccurence_matrix :206\n"
          ],
          "name": "stdout"
        },
        {
          "output_type": "execute_result",
          "data": {
            "text/html": [
              "<div>\n",
              "<style scoped>\n",
              "    .dataframe tbody tr th:only-of-type {\n",
              "        vertical-align: middle;\n",
              "    }\n",
              "\n",
              "    .dataframe tbody tr th {\n",
              "        vertical-align: top;\n",
              "    }\n",
              "\n",
              "    .dataframe thead th {\n",
              "        text-align: right;\n",
              "    }\n",
              "</style>\n",
              "<table border=\"1\" class=\"dataframe\">\n",
              "  <thead>\n",
              "    <tr style=\"text-align: right;\">\n",
              "      <th></th>\n",
              "      <th>user_id</th>\n",
              "      <th>song</th>\n",
              "      <th>score</th>\n",
              "      <th>rank</th>\n",
              "    </tr>\n",
              "  </thead>\n",
              "  <tbody>\n",
              "    <tr>\n",
              "      <th>0</th>\n",
              "      <td>91b8fac7dc5e03f6cfaf6e2aa7171f14a8354d62</td>\n",
              "      <td>Shakedown-Au Pairs</td>\n",
              "      <td>0.033333</td>\n",
              "      <td>1</td>\n",
              "    </tr>\n",
              "    <tr>\n",
              "      <th>1</th>\n",
              "      <td>91b8fac7dc5e03f6cfaf6e2aa7171f14a8354d62</td>\n",
              "      <td>S-Bahn-Surfen (2007 Digital Remaster)-Spider M...</td>\n",
              "      <td>0.033333</td>\n",
              "      <td>2</td>\n",
              "    </tr>\n",
              "    <tr>\n",
              "      <th>2</th>\n",
              "      <td>91b8fac7dc5e03f6cfaf6e2aa7171f14a8354d62</td>\n",
              "      <td>Attack Of The Killerbirds-Emilie Simon</td>\n",
              "      <td>0.033333</td>\n",
              "      <td>3</td>\n",
              "    </tr>\n",
              "    <tr>\n",
              "      <th>3</th>\n",
              "      <td>91b8fac7dc5e03f6cfaf6e2aa7171f14a8354d62</td>\n",
              "      <td>Hate (I Really Don't Like You)-Plain White T's</td>\n",
              "      <td>0.033333</td>\n",
              "      <td>4</td>\n",
              "    </tr>\n",
              "    <tr>\n",
              "      <th>4</th>\n",
              "      <td>91b8fac7dc5e03f6cfaf6e2aa7171f14a8354d62</td>\n",
              "      <td>Ike's Mood-Isaac Hayes</td>\n",
              "      <td>0.033333</td>\n",
              "      <td>5</td>\n",
              "    </tr>\n",
              "    <tr>\n",
              "      <th>5</th>\n",
              "      <td>91b8fac7dc5e03f6cfaf6e2aa7171f14a8354d62</td>\n",
              "      <td>Dancing In The Moonlight (It's Caught Me In It...</td>\n",
              "      <td>0.033333</td>\n",
              "      <td>6</td>\n",
              "    </tr>\n",
              "    <tr>\n",
              "      <th>6</th>\n",
              "      <td>91b8fac7dc5e03f6cfaf6e2aa7171f14a8354d62</td>\n",
              "      <td>Rock Climbing [Byte 1] (2005)-Damu The Fudgemunk</td>\n",
              "      <td>0.033333</td>\n",
              "      <td>7</td>\n",
              "    </tr>\n",
              "    <tr>\n",
              "      <th>7</th>\n",
              "      <td>91b8fac7dc5e03f6cfaf6e2aa7171f14a8354d62</td>\n",
              "      <td>Frantic-The Lovely Feathers</td>\n",
              "      <td>0.033333</td>\n",
              "      <td>8</td>\n",
              "    </tr>\n",
              "    <tr>\n",
              "      <th>8</th>\n",
              "      <td>91b8fac7dc5e03f6cfaf6e2aa7171f14a8354d62</td>\n",
              "      <td>La Femme Parallel-Thievery Corporation</td>\n",
              "      <td>0.033333</td>\n",
              "      <td>9</td>\n",
              "    </tr>\n",
              "    <tr>\n",
              "      <th>9</th>\n",
              "      <td>91b8fac7dc5e03f6cfaf6e2aa7171f14a8354d62</td>\n",
              "      <td>It Had To Be You (Cd)-Motion City Soundtrack</td>\n",
              "      <td>0.033333</td>\n",
              "      <td>10</td>\n",
              "    </tr>\n",
              "  </tbody>\n",
              "</table>\n",
              "</div>"
            ],
            "text/plain": [
              "                                    user_id  ... rank\n",
              "0  91b8fac7dc5e03f6cfaf6e2aa7171f14a8354d62  ...    1\n",
              "1  91b8fac7dc5e03f6cfaf6e2aa7171f14a8354d62  ...    2\n",
              "2  91b8fac7dc5e03f6cfaf6e2aa7171f14a8354d62  ...    3\n",
              "3  91b8fac7dc5e03f6cfaf6e2aa7171f14a8354d62  ...    4\n",
              "4  91b8fac7dc5e03f6cfaf6e2aa7171f14a8354d62  ...    5\n",
              "5  91b8fac7dc5e03f6cfaf6e2aa7171f14a8354d62  ...    6\n",
              "6  91b8fac7dc5e03f6cfaf6e2aa7171f14a8354d62  ...    7\n",
              "7  91b8fac7dc5e03f6cfaf6e2aa7171f14a8354d62  ...    8\n",
              "8  91b8fac7dc5e03f6cfaf6e2aa7171f14a8354d62  ...    9\n",
              "9  91b8fac7dc5e03f6cfaf6e2aa7171f14a8354d62  ...   10\n",
              "\n",
              "[10 rows x 4 columns]"
            ]
          },
          "metadata": {
            "tags": []
          },
          "execution_count": 60
        }
      ]
    },
    {
      "cell_type": "code",
      "metadata": {
        "colab": {
          "base_uri": "https://localhost:8080/",
          "height": 390
        },
        "id": "hMSEglF_4xkS",
        "outputId": "e7590b68-622a-4c3f-ec96-a8eb2a04f784"
      },
      "source": [
        "pk.get_similar_items(['U Smile-Justin Bieber','Yellow-Coldplay'])"
      ],
      "id": "hMSEglF_4xkS",
      "execution_count": null,
      "outputs": [
        {
          "output_type": "stream",
          "text": [
            "no. of unique songs in the training set: 6107\n",
            "Non zero values in cooccurence_matrix :142\n"
          ],
          "name": "stdout"
        },
        {
          "output_type": "execute_result",
          "data": {
            "text/html": [
              "<div>\n",
              "<style scoped>\n",
              "    .dataframe tbody tr th:only-of-type {\n",
              "        vertical-align: middle;\n",
              "    }\n",
              "\n",
              "    .dataframe tbody tr th {\n",
              "        vertical-align: top;\n",
              "    }\n",
              "\n",
              "    .dataframe thead th {\n",
              "        text-align: right;\n",
              "    }\n",
              "</style>\n",
              "<table border=\"1\" class=\"dataframe\">\n",
              "  <thead>\n",
              "    <tr style=\"text-align: right;\">\n",
              "      <th></th>\n",
              "      <th>user_id</th>\n",
              "      <th>song</th>\n",
              "      <th>score</th>\n",
              "      <th>rank</th>\n",
              "    </tr>\n",
              "  </thead>\n",
              "  <tbody>\n",
              "    <tr>\n",
              "      <th>0</th>\n",
              "      <td></td>\n",
              "      <td>Stuck In The Moment-Justin Bieber</td>\n",
              "      <td>0.200000</td>\n",
              "      <td>1</td>\n",
              "    </tr>\n",
              "    <tr>\n",
              "      <th>1</th>\n",
              "      <td></td>\n",
              "      <td>EMOTIONS-Mariah Carey</td>\n",
              "      <td>0.155556</td>\n",
              "      <td>2</td>\n",
              "    </tr>\n",
              "    <tr>\n",
              "      <th>2</th>\n",
              "      <td></td>\n",
              "      <td>Fix You-Coldplay</td>\n",
              "      <td>0.148810</td>\n",
              "      <td>3</td>\n",
              "    </tr>\n",
              "    <tr>\n",
              "      <th>3</th>\n",
              "      <td></td>\n",
              "      <td>Supermassive Black Hole (Twilight Soundtrack V...</td>\n",
              "      <td>0.116883</td>\n",
              "      <td>4</td>\n",
              "    </tr>\n",
              "    <tr>\n",
              "      <th>4</th>\n",
              "      <td></td>\n",
              "      <td>Hero/Heroine-Boys Like Girls</td>\n",
              "      <td>0.111111</td>\n",
              "      <td>5</td>\n",
              "    </tr>\n",
              "    <tr>\n",
              "      <th>5</th>\n",
              "      <td></td>\n",
              "      <td>Creep (Explicit)-Radiohead</td>\n",
              "      <td>0.100962</td>\n",
              "      <td>6</td>\n",
              "    </tr>\n",
              "    <tr>\n",
              "      <th>6</th>\n",
              "      <td></td>\n",
              "      <td>Rang De Basanti-Daler Mehndi;Chitra</td>\n",
              "      <td>0.100000</td>\n",
              "      <td>7</td>\n",
              "    </tr>\n",
              "    <tr>\n",
              "      <th>7</th>\n",
              "      <td></td>\n",
              "      <td>Praise You In This Storm (Medium w/o backgroun...</td>\n",
              "      <td>0.100000</td>\n",
              "      <td>8</td>\n",
              "    </tr>\n",
              "    <tr>\n",
              "      <th>8</th>\n",
              "      <td></td>\n",
              "      <td>Grace Kelly-MIKA</td>\n",
              "      <td>0.100000</td>\n",
              "      <td>9</td>\n",
              "    </tr>\n",
              "    <tr>\n",
              "      <th>9</th>\n",
              "      <td></td>\n",
              "      <td>Try Sleeping With A Broken Heart-Alicia Keys</td>\n",
              "      <td>0.100000</td>\n",
              "      <td>10</td>\n",
              "    </tr>\n",
              "  </tbody>\n",
              "</table>\n",
              "</div>"
            ],
            "text/plain": [
              "  user_id                                               song     score rank\n",
              "0                          Stuck In The Moment-Justin Bieber  0.200000    1\n",
              "1                                      EMOTIONS-Mariah Carey  0.155556    2\n",
              "2                                           Fix You-Coldplay  0.148810    3\n",
              "3          Supermassive Black Hole (Twilight Soundtrack V...  0.116883    4\n",
              "4                               Hero/Heroine-Boys Like Girls  0.111111    5\n",
              "5                                 Creep (Explicit)-Radiohead  0.100962    6\n",
              "6                        Rang De Basanti-Daler Mehndi;Chitra  0.100000    7\n",
              "7          Praise You In This Storm (Medium w/o backgroun...  0.100000    8\n",
              "8                                           Grace Kelly-MIKA  0.100000    9\n",
              "9               Try Sleeping With A Broken Heart-Alicia Keys  0.100000   10"
            ]
          },
          "metadata": {
            "tags": []
          },
          "execution_count": 61
        }
      ]
    }
  ]
}