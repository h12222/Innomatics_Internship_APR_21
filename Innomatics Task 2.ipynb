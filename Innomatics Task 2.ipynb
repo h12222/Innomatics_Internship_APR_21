{
 "cells": [
  {
   "cell_type": "code",
   "execution_count": 1,
   "metadata": {},
   "outputs": [
    {
     "name": "stdout",
     "output_type": "stream",
     "text": [
      "1\n",
      "2\n",
      "3\n",
      "4\n",
      "[[0, 0, 0], [0, 0, 1], [0, 0, 2], [0, 0, 3], [0, 1, 0], [0, 1, 1], [0, 1, 2], [0, 2, 0], [0, 2, 1], [0, 2, 3], [1, 0, 0], [1, 0, 1], [1, 0, 2], [1, 1, 0], [1, 1, 1], [1, 1, 3], [1, 2, 0], [1, 2, 2], [1, 2, 3]]\n"
     ]
    }
   ],
   "source": [
    "#Question 1:- List Comprehension\n",
    "x = int(input())\n",
    "y = int(input())\n",
    "z = int(input())\n",
    "n = int(input())\n",
    "\n",
    "    \n",
    "print([[a, b, c] for a in range(x + 1) for b in range(y + 1) for c in range( z + 1) if a+b+c != n ])"
   ]
  },
  {
   "cell_type": "code",
   "execution_count": 2,
   "metadata": {},
   "outputs": [
    {
     "name": "stdout",
     "output_type": "stream",
     "text": [
      "3\n",
      "john\n",
      "4\n",
      "lala\n",
      "5\n",
      "hemant\n",
      "6\n",
      "lala\n"
     ]
    }
   ],
   "source": [
    "#Question 2:- Nested Lists\n",
    "students = [[input(),float(input())] for i in range(int(input()))]\n",
    "second_highest = sorted(set(j for i,j in students))[1]\n",
    "print(\"\\n\".join(sorted(i for i,j in students if j==second_highest)))"
   ]
  },
  {
   "cell_type": "code",
   "execution_count": 5,
   "metadata": {},
   "outputs": [
    {
     "name": "stdout",
     "output_type": "stream",
     "text": [
      "3\n",
      "Krishna 67 68 69\n",
      "Arjun 70 98 63\n",
      "Malika 52 56 60\n",
      "Malika\n",
      "56.00\n"
     ]
    }
   ],
   "source": [
    "#Question 3:- Percentage\n",
    "if __name__ == '__main__':\n",
    "    n = int(input())\n",
    "    student_marks = {}\n",
    "    for _ in range(n):\n",
    "        name, *line = input().split()\n",
    "        scores = list(map(float, line))\n",
    "        student_marks[name] = scores\n",
    "    query_name = input()\n",
    "    l=list(student_marks[query_name])\n",
    "    le=len(l)\n",
    "    s=sum(l)\n",
    "    av=s/le\n",
    "    print('%.2f'%av)"
   ]
  },
  {
   "cell_type": "code",
   "execution_count": 6,
   "metadata": {},
   "outputs": [
    {
     "name": "stdout",
     "output_type": "stream",
     "text": [
      "12\n",
      "insert 0 5\n",
      "insert 1 10\n",
      "insert 0 6\n",
      "print\n",
      "[6, 5, 10]\n",
      "remove 6\n",
      "append 9\n",
      "append 1\n",
      "sort\n",
      "print\n",
      "[1, 5, 9, 10]\n",
      "pop\n",
      "reverse\n",
      "print\n",
      "[9, 5, 1]\n"
     ]
    }
   ],
   "source": [
    "#Question 4 :- Lists\n",
    "def commdr(lst, instruct): \n",
    "    if instruct[0] == 'insert':\n",
    "        lst.insert(int(instruct[1]), int(instruct[2]))\n",
    "    elif instruct[0] == 'print':\n",
    "        print(lst)\n",
    "    elif instruct[0] == 'remove':\n",
    "        lst.remove(int(instruct[1]))\n",
    "    elif instruct[0] == 'append':\n",
    "        lst.append(int(instruct[1]))\n",
    "    elif instruct[0] == 'sort':\n",
    "        lst.sort()\n",
    "    elif instruct[0] == 'reverse':\n",
    "        lst.reverse()\n",
    "    elif instruct[0] == 'pop':\n",
    "        lst.pop()\n",
    "    else: \n",
    "        print(\"Command not recognized!\")\n",
    "\n",
    "n = int(input()) \n",
    "lst = []\n",
    "for command in range(0,n):\n",
    "    temp = [str(i) for i in input().strip().split()]\n",
    "    commdr(lst, temp)"
   ]
  },
  {
   "cell_type": "code",
   "execution_count": 7,
   "metadata": {},
   "outputs": [
    {
     "name": "stdout",
     "output_type": "stream",
     "text": [
      "2\n",
      "1 2\n",
      "3713081631934410656\n"
     ]
    }
   ],
   "source": [
    "#Question 7:- Tuple\n",
    "n = int(input())\n",
    "\n",
    "integer_list =tuple( map(int, input().split()))\n",
    "\n",
    "print(hash(integer_list))"
   ]
  },
  {
   "cell_type": "code",
   "execution_count": 8,
   "metadata": {},
   "outputs": [
    {
     "name": "stdout",
     "output_type": "stream",
     "text": [
      "5\n",
      "2 3 3 5 6\n",
      "5\n"
     ]
    }
   ],
   "source": [
    "#Question 8:- Runner up\n",
    "if __name__ == '__main__':\n",
    "    n = int(input())\n",
    "    arr = list(map(int, input().split()))\n",
    "    b=set(arr)\n",
    "    b.remove(max(b))\n",
    "    print(max(b))"
   ]
  },
  {
   "cell_type": "code",
   "execution_count": 1,
   "metadata": {},
   "outputs": [
    {
     "name": "stdout",
     "output_type": "stream",
     "text": [
      "10\n",
      "161 162 187 182 212\n",
      "180.8\n"
     ]
    }
   ],
   "source": [
    "#Question 9:- Sets\n",
    "def average(array):\n",
    "    average=sum(set(arr))/len(set(arr))\n",
    "    return average\n",
    "    \n",
    "if __name__ == '__main__':\n",
    "    n = int(input())\n",
    "    arr = list(map(int, input().split()))\n",
    "    result = average(arr)\n",
    "    print(result)"
   ]
  },
  {
   "cell_type": "code",
   "execution_count": 3,
   "metadata": {},
   "outputs": [
    {
     "name": "stdout",
     "output_type": "stream",
     "text": [
      "3 2\n",
      "1 5\n",
      "2 6\n",
      "6 7\n",
      "0\n"
     ]
    }
   ],
   "source": [
    "#Question 10:- No Idea\n",
    "n, m = [int(x) for x in input().split()]\n",
    "\n",
    "array = [int(x) for x in input().split()]\n",
    "A = {int(x) for x in input().split()}\n",
    "B = {int(x) for x in input().split()}\n",
    "\n",
    "happiness = 0\n",
    "\n",
    "for value in array:\n",
    "    change = 1 if value in A else -1 if value in B else 0\n",
    "    happiness += change\n",
    "\n",
    "print(happiness)"
   ]
  },
  {
   "cell_type": "code",
   "execution_count": 4,
   "metadata": {},
   "outputs": [
    {
     "name": "stdout",
     "output_type": "stream",
     "text": [
      "7\n",
      "uk\n",
      "china\n",
      "us\n",
      "india\n",
      "germany\n",
      "australia\n",
      "indonesia\n",
      "7\n"
     ]
    }
   ],
   "source": [
    "#question11 set add\n",
    "set1 = set()\n",
    "for _ in range(int(input())):\n",
    "    set1.add(input())\n",
    "print(len(set1))\n"
   ]
  },
  {
   "cell_type": "code",
   "execution_count": 10,
   "metadata": {},
   "outputs": [
    {
     "name": "stdout",
     "output_type": "stream",
     "text": [
      "9\n",
      "1 2 3 4 5 6 7 8 9\n",
      "10\n",
      "pop\n",
      "remove 9\n",
      "discard 9\n",
      "discard 8\n",
      "remove 7\n",
      "pop\n",
      "discard 6\n",
      "remove 5\n",
      "pop\n",
      "discard 5\n",
      "4\n"
     ]
    }
   ],
   "source": [
    "#question 12 Set Remove Pop\n",
    "int(input())\n",
    "s = set(map(int,input().split()))\n",
    "num = int(input())\n",
    "for i in range(num):\n",
    "    ip = input().split()\n",
    "    if ip[0]==\"remove\":\n",
    "        s.remove(int(ip[1]))\n",
    "    elif ip[0]==\"discard\":\n",
    "        s.discard(int(ip[1]))\n",
    "    else :\n",
    "        s.pop()\n",
    "print(sum(list(s)))"
   ]
  },
  {
   "cell_type": "code",
   "execution_count": 11,
   "metadata": {},
   "outputs": [
    {
     "name": "stdout",
     "output_type": "stream",
     "text": [
      "9\n",
      "1 2 3 4 5 6 7 8 9\n",
      "9\n",
      "10 1 2 3 11 21 55 6 8\n",
      "13\n"
     ]
    }
   ],
   "source": [
    "#Question 13 Set Union\n",
    "N1 = int(input())\n",
    "storage1 = set(input().split());\n",
    "\n",
    "N2 = int(input())\n",
    "storage2 = set(input().split());\n",
    "\n",
    "storage3 = storage1.union(storage2)\n",
    "\n",
    "print(len(storage3))"
   ]
  },
  {
   "cell_type": "code",
   "execution_count": 12,
   "metadata": {},
   "outputs": [
    {
     "name": "stdout",
     "output_type": "stream",
     "text": [
      "9\n",
      "1 2 3 4 5 6 7 8 9\n",
      "9\n",
      "10 1 2 3 11 21 55 6 8\n",
      "5\n"
     ]
    }
   ],
   "source": [
    "#QUESTION 14 SET INTERSECTION\n",
    "N1 = int(input())\n",
    "storage1 = set(input().split())\n",
    "\n",
    "N2 = int(input())\n",
    "storage2 = set(input().split())\n",
    "\n",
    "storage3 = storage2.intersection(storage1)\n",
    "\n",
    "print(len(storage3))"
   ]
  },
  {
   "cell_type": "code",
   "execution_count": 13,
   "metadata": {},
   "outputs": [
    {
     "name": "stdout",
     "output_type": "stream",
     "text": [
      "9\n",
      "1 2 3 4 5 6 7 8 9\n",
      "9\n",
      "10 1 2 3 11 21 55 6 8\n",
      "4\n"
     ]
    }
   ],
   "source": [
    "#Question 15 set diffrence\n",
    "N1 = int(input())\n",
    "storage1 = set(input().split())\n",
    "\n",
    "N2 = int(input())\n",
    "storage2 = set(input().split())\n",
    "\n",
    "storage3 = storage1.difference(storage2)\n",
    "\n",
    "print(len(storage3))"
   ]
  },
  {
   "cell_type": "code",
   "execution_count": 14,
   "metadata": {},
   "outputs": [
    {
     "name": "stdout",
     "output_type": "stream",
     "text": [
      "9\n",
      "1 2 3 4 5 6 7 8 9\n",
      "9\n",
      "10 1 2 3 11 21 55 6 8\n",
      "8\n"
     ]
    }
   ],
   "source": [
    "#Question 16  Set Symmetric_diffrence\n",
    "N1 = int(input())\n",
    "storage1 = set(input().split())\n",
    "\n",
    "N2 = int(input())\n",
    "storage2 = set(input().split())\n",
    "\n",
    "storage3 = storage1.symmetric_difference(storage2)\n",
    "\n",
    "print(len(storage3))"
   ]
  },
  {
   "cell_type": "code",
   "execution_count": 15,
   "metadata": {},
   "outputs": [
    {
     "name": "stdout",
     "output_type": "stream",
     "text": [
      "16\n",
      "1 2 3 4 5 6 7 8 9 10 11 12 13 14 24 52\n",
      "4\n",
      "intersection_update 10\n",
      "2 3 5 6 8 9 1 4 7 11\n",
      "update 2\n",
      "55 66\n",
      "symmetric_difference_update 5\n",
      "22 7 35 62 58\n",
      "difference_update 7\n",
      "11 22 35 55 58 62 66\n",
      "38\n"
     ]
    }
   ],
   "source": [
    "#Question 17 set mutation\n",
    "n = int(input())\n",
    "a = set(map(int,input().split()))\n",
    "N = int(input())\n",
    "for i in range(N):\n",
    "    cmd = input().split()\n",
    "    opt = cmd[0]\n",
    "    s = set(map(int,input().split()))\n",
    "    if (opt == 'update'):\n",
    "        a |= s\n",
    "    elif (opt == 'intersection_update'):\n",
    "        a &= s\n",
    "    elif (opt == 'difference_update'):\n",
    "        a -= s\n",
    "    elif (opt == 'symmetric_difference_update'):\n",
    "        a ^= s\n",
    "print(sum(a))"
   ]
  },
  {
   "cell_type": "code",
   "execution_count": 16,
   "metadata": {},
   "outputs": [
    {
     "name": "stdout",
     "output_type": "stream",
     "text": [
      "5\n",
      "1 2 3 6 5 4 4 2 5 3 6 1 6 5 3 2 4 1 2 5 1 4 3 6 8 4 3 1 5 6 2\n",
      "8\n"
     ]
    }
   ],
   "source": [
    "#Question 18 Captain room\n",
    "k = int(input())\n",
    "room_number_list = list(map(int,input().split()))\n",
    "room_number_set = set(room_number_list)\n",
    "room_number_list_sum = sum(room_number_list)\n",
    "room_number_set_sum = sum(room_number_set) * k\n",
    "diff = room_number_set_sum - room_number_list_sum\n",
    "for i in room_number_set:\n",
    "    if diff == ((k-1)*i):\n",
    "        print(i)\n",
    "        break"
   ]
  },
  {
   "cell_type": "code",
   "execution_count": 17,
   "metadata": {},
   "outputs": [
    {
     "name": "stdout",
     "output_type": "stream",
     "text": [
      "3\n",
      "5\n",
      "1 2 3 5 6\n",
      "9\n",
      "9 8 5 6 3 2 1 4 7\n",
      "True\n",
      "1\n",
      "2\n",
      "5\n",
      "3 6 5 4 1\n",
      "False\n",
      "7\n",
      "1 2 3 5 6 8 9\n",
      "3 \n",
      "9 8 2\n",
      "False\n"
     ]
    }
   ],
   "source": [
    "#Question 19 check subset\n",
    "T = int(input())\n",
    "\n",
    "for _ in range(T):\n",
    "    a = input()\n",
    "    A = set(input().split())\n",
    "    b = int(input())\n",
    "    B = set(input().split())\n",
    "    print(A.issubset(B))"
   ]
  },
  {
   "cell_type": "code",
   "execution_count": 18,
   "metadata": {},
   "outputs": [
    {
     "name": "stdout",
     "output_type": "stream",
     "text": [
      "1 2 3 4 5 6 7 8 9 10 11 12 23 45 84 78\n",
      "2\n",
      "1 2 3 4 5\n",
      "100 11 12\n",
      "False\n"
     ]
    }
   ],
   "source": [
    "#Question 20  strict superset\n",
    "A  = set(input().split())\n",
    "n = int(input())\n",
    "check = True\n",
    "for i in range(n):\n",
    "    s = set(input().split())\n",
    "    if (s&A != s) or (s == A):\n",
    "        check = False\n",
    "        break\n",
    "print(check)"
   ]
  },
  {
   "cell_type": "code",
   "execution_count": null,
   "metadata": {},
   "outputs": [],
   "source": []
  }
 ],
 "metadata": {
  "kernelspec": {
   "display_name": "Python 3",
   "language": "python",
   "name": "python3"
  },
  "language_info": {
   "codemirror_mode": {
    "name": "ipython",
    "version": 3
   },
   "file_extension": ".py",
   "mimetype": "text/x-python",
   "name": "python",
   "nbconvert_exporter": "python",
   "pygments_lexer": "ipython3",
   "version": "3.7.6"
  }
 },
 "nbformat": 4,
 "nbformat_minor": 4
}
