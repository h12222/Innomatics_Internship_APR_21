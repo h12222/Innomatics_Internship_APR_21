{
 "cells": [
  {
   "cell_type": "code",
   "execution_count": 1,
   "metadata": {},
   "outputs": [
    {
     "name": "stdout",
     "output_type": "stream",
     "text": [
      "1.09 1\n",
      "0.696\n"
     ]
    }
   ],
   "source": [
    "# Binomial Distribution 1\n",
    "def fact(n):\n",
    "    return 1 if n == 0 else n*fact(n-1)\n",
    "\n",
    "def comb(n, x):\n",
    "    return fact(n) / (fact(x) * fact(n-x))\n",
    "\n",
    "def b(x, n, p):\n",
    "    return comb(n, x) * p**x * (1-p)**(n-x)\n",
    "\n",
    "l, r = list(map(float, input().split(\" \")))\n",
    "odds = l / r\n",
    "print(round(sum([b(i, 6, odds / (1 + odds)) for i in range(3, 7)]), 3))"
   ]
  },
  {
   "cell_type": "code",
   "execution_count": 4,
   "metadata": {},
   "outputs": [
    {
     "name": "stdout",
     "output_type": "stream",
     "text": [
      "0.891\n",
      "0.342\n"
     ]
    }
   ],
   "source": [
    "# Binomial Distribution 2\n",
    "import math\n",
    "\n",
    "\n",
    "p = 0.12\n",
    "ans1 = 0\n",
    "for i in range(0, 3):\n",
    "    ans1 += math.factorial(10)/math.factorial(i)/math.factorial(10-i) * p**i * (1-p)**(10-i)\n",
    "    if i == 1:\n",
    "        ans2 = 1 - ans1\n",
    "\n",
    "print(round(ans1, 3))\n",
    "print(round(ans2, 3))"
   ]
  },
  {
   "cell_type": "code",
   "execution_count": 5,
   "metadata": {},
   "outputs": [
    {
     "name": "stdout",
     "output_type": "stream",
     "text": [
      "0.401\n",
      "0.341\n"
     ]
    }
   ],
   "source": [
    "# Binomial Distribution 3\n",
    "import math\n",
    "\n",
    "\n",
    "def cdf(x, mean, std):\n",
    "    return 1/2*(1+math.erf((x-mean) / std / 2**(1/2)))\n",
    "\n",
    "\n",
    "mean = 20\n",
    "std = 2\n",
    "\n",
    "\n",
    "print(round(cdf(19.5, mean, std), 3))\n",
    "\n",
    "print(round(cdf(22, mean, std) - cdf(20, mean, std), 3))"
   ]
  },
  {
   "cell_type": "code",
   "execution_count": 6,
   "metadata": {},
   "outputs": [
    {
     "name": "stdout",
     "output_type": "stream",
     "text": [
      "0.891\n",
      "0.342\n"
     ]
    }
   ],
   "source": [
    "#Binomial Distribution 4\n",
    "import math\n",
    "\n",
    "\n",
    "p = 0.12\n",
    "ans1 = 0\n",
    "for i in range(0, 3):\n",
    "    ans1 += math.factorial(10)/math.factorial(i)/math.factorial(10-i) * p**i * (1-p)**(10-i)\n",
    "    if i == 1:\n",
    "        ans2 = 1 - ans1\n",
    "\n",
    "print(round(ans1, 3))\n",
    "print(round(ans2, 3))"
   ]
  },
  {
   "cell_type": "code",
   "execution_count": 7,
   "metadata": {},
   "outputs": [
    {
     "name": "stdout",
     "output_type": "stream",
     "text": [
      "0.0098\n"
     ]
    }
   ],
   "source": [
    "#Central Limit theorem 5\n",
    "import math\n",
    "\n",
    "\n",
    "def cdf(x, mean, std):\n",
    "    return 1/2*(1+math.erf((x-mean) / std / 2**(1/2)))\n",
    "\n",
    "\n",
    "# inputs\n",
    "mean = 205\n",
    "std = 15\n",
    "n = 49\n",
    "target = 9800\n",
    "\n",
    "# characteristics of sum\n",
    "mean_s = n * mean\n",
    "std_s = std * n**(1/2)\n",
    "\n",
    "# Find the probability that sum <= 9800\n",
    "print(round(cdf(target, mean_s, std_s), 4))"
   ]
  },
  {
   "cell_type": "code",
   "execution_count": 8,
   "metadata": {},
   "outputs": [
    {
     "name": "stdout",
     "output_type": "stream",
     "text": [
      "0.6915\n"
     ]
    }
   ],
   "source": [
    "#Central Limit theorem 6\n",
    "import math\n",
    "\n",
    "\n",
    "def cdf(x, mean, std):\n",
    "    return 1/2*(1+math.erf((x-mean) / std / 2**(1/2)))\n",
    "\n",
    "# inputs\n",
    "mean = 2.4\n",
    "std = 2\n",
    "n = 100\n",
    "target = 250\n",
    "\n",
    "# characteristics of sum\n",
    "mean_s = n * mean\n",
    "std_s = std * n**(1/2)\n",
    "\n",
    "# Find the probability that sum <= 250\n",
    "print(round(cdf(target, mean_s, std_s), 4))"
   ]
  },
  {
   "cell_type": "code",
   "execution_count": 10,
   "metadata": {},
   "outputs": [
    {
     "name": "stdout",
     "output_type": "stream",
     "text": [
      "484.32\n",
      "515.68\n"
     ]
    }
   ],
   "source": [
    "#Central Limit theorem 7\n",
    "# inputs\n",
    "mean = 500\n",
    "std = 80\n",
    "n = 100\n",
    "z = 1.96\n",
    "\n",
    "# characteristics of sample\n",
    "mean = mean\n",
    "std = std / n**(1/2)\n",
    "\n",
    "# Find the 95% interval\n",
    "print(round(mean - std * z, 2))\n",
    "print(round(mean + std * z, 2))"
   ]
  },
  {
   "cell_type": "code",
   "execution_count": null,
   "metadata": {},
   "outputs": [],
   "source": [
    "#lINEAR MODEL 8\n",
    "from sklearn import linear_model\n",
    "\n",
    "first = list(map(int, str.split(input(), \" \")))\n",
    "m, n = first[0], first[1]\n",
    "\n",
    "data = [list(float(x) for x in input().split()) for i in range(n)]\n",
    "\n",
    "x = [[item[i] for i in range(m)] for item in data]\n",
    "y = [item[-1] for item in data]\n",
    "lm = linear_model.LinearRegression()\n",
    "lm.fit(x, y)\n",
    "a = lm.intercept_\n",
    "b = lm.coef_\n",
    "\n",
    "for i in range(int(input())):\n",
    "    data = list(map(float, input().split()))\n",
    "    ans = [b[j]*data[j] for j in range(m)]\n",
    "    print(a+sum(ans))\n",
    "    "
   ]
  },
  {
   "cell_type": "code",
   "execution_count": null,
   "metadata": {},
   "outputs": [],
   "source": []
  }
 ],
 "metadata": {
  "kernelspec": {
   "display_name": "Python 3",
   "language": "python",
   "name": "python3"
  },
  "language_info": {
   "codemirror_mode": {
    "name": "ipython",
    "version": 3
   },
   "file_extension": ".py",
   "mimetype": "text/x-python",
   "name": "python",
   "nbconvert_exporter": "python",
   "pygments_lexer": "ipython3",
   "version": "3.7.6"
  }
 },
 "nbformat": 4,
 "nbformat_minor": 4
}
